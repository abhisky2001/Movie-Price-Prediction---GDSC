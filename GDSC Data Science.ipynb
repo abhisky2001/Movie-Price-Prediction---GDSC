{
 "cells": [
  {
   "cell_type": "markdown",
   "id": "e37cac8b",
   "metadata": {},
   "source": [
    "## Importing Dependencies\n",
    "* Pandas\n",
    "* MatPlotLib\n",
    "* Seaborn\n",
    "* Scipy\n",
    "* Numpy\n",
    "* Scikit-learn\n"
   ]
  },
  {
   "cell_type": "code",
   "execution_count": 359,
   "id": "03c333e2",
   "metadata": {},
   "outputs": [],
   "source": [
    "import pandas as pd\n",
    "import seaborn as sns\n",
    "import matplotlib.pyplot as plt\n",
    "import numpy as np\n",
    "import scipy as sp\n",
    "%matplotlib inline"
   ]
  },
  {
   "cell_type": "code",
   "execution_count": 360,
   "id": "092c5593",
   "metadata": {
    "pycharm": {
     "is_executing": true
    }
   },
   "outputs": [],
   "source": [
    "df = pd.read_csv(\"/Users/Work/Projects/GDSC/Input_Dataset.csv\")\n",
    "df_test = pd.read_csv(\"/Users/Work/Projects/GDSC/Test_Dataset.csv\")\n",
    "df_submit = pd.read_csv(\"/Users/Work/Projects/GDSC/sample_submission.csv\")"
   ]
  },
  {
   "cell_type": "markdown",
   "id": "2baf56d1",
   "metadata": {
    "pycharm": {
     "name": "#%% md\n"
    }
   },
   "source": [
    "## Exploratory Data Analysis"
   ]
  },
  {
   "cell_type": "code",
   "execution_count": 361,
   "id": "95b7fc80",
   "metadata": {
    "pycharm": {
     "is_executing": true,
     "name": "#%%\n"
    },
    "scrolled": true
   },
   "outputs": [
    {
     "data": {
      "text/html": [
       "<div>\n",
       "<style scoped>\n",
       "    .dataframe tbody tr th:only-of-type {\n",
       "        vertical-align: middle;\n",
       "    }\n",
       "\n",
       "    .dataframe tbody tr th {\n",
       "        vertical-align: top;\n",
       "    }\n",
       "\n",
       "    .dataframe thead th {\n",
       "        text-align: right;\n",
       "    }\n",
       "</style>\n",
       "<table border=\"1\" class=\"dataframe\">\n",
       "  <thead>\n",
       "    <tr style=\"text-align: right;\">\n",
       "      <th></th>\n",
       "      <th>Unnamed: 0</th>\n",
       "      <th>id</th>\n",
       "      <th>belongs_to_collection</th>\n",
       "      <th>budget</th>\n",
       "      <th>genres</th>\n",
       "      <th>language</th>\n",
       "      <th>overview</th>\n",
       "      <th>popularity</th>\n",
       "      <th>production_companies</th>\n",
       "      <th>production_countries</th>\n",
       "      <th>...</th>\n",
       "      <th>status</th>\n",
       "      <th>tagline</th>\n",
       "      <th>title</th>\n",
       "      <th>Keywords</th>\n",
       "      <th>cast</th>\n",
       "      <th>crew</th>\n",
       "      <th>revenue</th>\n",
       "      <th>release_year</th>\n",
       "      <th>release_day_of_the_week</th>\n",
       "      <th>release_date</th>\n",
       "    </tr>\n",
       "  </thead>\n",
       "  <tbody>\n",
       "    <tr>\n",
       "      <th>0</th>\n",
       "      <td>0</td>\n",
       "      <td>1</td>\n",
       "      <td>{'id': 313576, 'name': 'Hot Tub Time Machine C...</td>\n",
       "      <td>14000000.00</td>\n",
       "      <td>[{'id': 35, 'name': 'Comedy'}]</td>\n",
       "      <td>en</td>\n",
       "      <td>When Lou, who has become the \"father of the In...</td>\n",
       "      <td>2.233967</td>\n",
       "      <td>[{'name': 'Paramount Pictures', 'id': 4}, {'na...</td>\n",
       "      <td>[{'iso_3166_1': 'US', 'name': 'United States o...</td>\n",
       "      <td>...</td>\n",
       "      <td>Released</td>\n",
       "      <td>The Laws of Space and Time are About to be Vio...</td>\n",
       "      <td>Hot Tub Time Machine 2</td>\n",
       "      <td>[{'id': 4379, 'name': 'time travel'}, {'id': 9...</td>\n",
       "      <td>[{'id': 52997, 'name': 'Rob Corddry', 'charate...</td>\n",
       "      <td>[{'id': 1449071, 'name': 'Kelly Cantley', 'dep...</td>\n",
       "      <td>12314651</td>\n",
       "      <td>2015</td>\n",
       "      <td>Friday</td>\n",
       "      <td>2015-02-20</td>\n",
       "    </tr>\n",
       "    <tr>\n",
       "      <th>1</th>\n",
       "      <td>1</td>\n",
       "      <td>2</td>\n",
       "      <td>{'id': 107674, 'name': 'The Princess Diaries C...</td>\n",
       "      <td>40000000.00</td>\n",
       "      <td>[{'id': 35, 'name': 'Comedy'}, {'id': 18, 'nam...</td>\n",
       "      <td>en</td>\n",
       "      <td>Mia Thermopolis is now a college graduate and ...</td>\n",
       "      <td>2.802533</td>\n",
       "      <td>[{'name': 'Walt Disney Pictures', 'id': 2}]</td>\n",
       "      <td>[{'iso_3166_1': 'US', 'name': 'United States o...</td>\n",
       "      <td>...</td>\n",
       "      <td>Released</td>\n",
       "      <td>It can take a lifetime to find true love; she'...</td>\n",
       "      <td>The Princess Diaries 2: Royal Engagement</td>\n",
       "      <td>[{'id': 2505, 'name': 'coronation'}, {'id': 42...</td>\n",
       "      <td>[{'id': 1813, 'name': 'Anne Hathaway', 'charat...</td>\n",
       "      <td>[{'id': 1201, 'name': 'Garry Marshall', 'depar...</td>\n",
       "      <td>95149435</td>\n",
       "      <td>2004</td>\n",
       "      <td>Friday</td>\n",
       "      <td>2004-08-06</td>\n",
       "    </tr>\n",
       "    <tr>\n",
       "      <th>2</th>\n",
       "      <td>2</td>\n",
       "      <td>3</td>\n",
       "      <td>NaN</td>\n",
       "      <td>3300000.00</td>\n",
       "      <td>[{'id': 18, 'name': 'Drama'}]</td>\n",
       "      <td>en</td>\n",
       "      <td>Under the direction of a ruthless instructor, ...</td>\n",
       "      <td>21.845701</td>\n",
       "      <td>[{'name': 'Bold Films', 'id': 2266}, {'name': ...</td>\n",
       "      <td>[{'iso_3166_1': 'US', 'name': 'United States o...</td>\n",
       "      <td>...</td>\n",
       "      <td>Released</td>\n",
       "      <td>The road to greatness can take you to the edge.</td>\n",
       "      <td>Whiplash</td>\n",
       "      <td>[{'id': 1416, 'name': 'jazz'}, {'id': 1523, 'n...</td>\n",
       "      <td>[{'id': 996701, 'name': 'Miles Teller', 'chara...</td>\n",
       "      <td>[{'id': 494, 'name': 'Terri Taylor', 'departme...</td>\n",
       "      <td>13092000</td>\n",
       "      <td>2014</td>\n",
       "      <td>Friday</td>\n",
       "      <td>2014-10-10</td>\n",
       "    </tr>\n",
       "    <tr>\n",
       "      <th>3</th>\n",
       "      <td>3</td>\n",
       "      <td>4</td>\n",
       "      <td>NaN</td>\n",
       "      <td>1200000.00</td>\n",
       "      <td>[{'id': 53, 'name': 'Thriller'}, {'id': 18, 'n...</td>\n",
       "      <td>hi</td>\n",
       "      <td>Vidya Bagchi (Vidya Balan) arrives in Kolkata ...</td>\n",
       "      <td>1.078673</td>\n",
       "      <td>NaN</td>\n",
       "      <td>[{'iso_3166_1': 'IN', 'name': 'India'}]</td>\n",
       "      <td>...</td>\n",
       "      <td>Released</td>\n",
       "      <td>NaN</td>\n",
       "      <td>Kahaani</td>\n",
       "      <td>[{'id': 10092, 'name': 'mystery'}, {'id': 1054...</td>\n",
       "      <td>[{'id': 35068, 'name': 'Vidya Balan', 'charate...</td>\n",
       "      <td>[{'id': 95510, 'name': 'Sujoy Ghosh', 'departm...</td>\n",
       "      <td>16000000</td>\n",
       "      <td>2012</td>\n",
       "      <td>Friday</td>\n",
       "      <td>2012-03-09</td>\n",
       "    </tr>\n",
       "    <tr>\n",
       "      <th>4</th>\n",
       "      <td>4</td>\n",
       "      <td>5</td>\n",
       "      <td>NaN</td>\n",
       "      <td>22531334.11</td>\n",
       "      <td>[{'id': 28, 'name': 'Action'}, {'id': 53, 'nam...</td>\n",
       "      <td>ko</td>\n",
       "      <td>Marine Boy is the story of a former national s...</td>\n",
       "      <td>0.390053</td>\n",
       "      <td>NaN</td>\n",
       "      <td>[{'iso_3166_1': 'KR', 'name': 'South Korea'}]</td>\n",
       "      <td>...</td>\n",
       "      <td>Released</td>\n",
       "      <td>NaN</td>\n",
       "      <td>Marine Boy</td>\n",
       "      <td>NaN</td>\n",
       "      <td>[{'id': 84751, 'name': 'Kim Kang-woo', 'charat...</td>\n",
       "      <td>[{'id': 84749, 'name': 'Jong-seok Yoon', 'depa...</td>\n",
       "      <td>3923970</td>\n",
       "      <td>2009</td>\n",
       "      <td>Thursday</td>\n",
       "      <td>2009-02-05</td>\n",
       "    </tr>\n",
       "  </tbody>\n",
       "</table>\n",
       "<p>5 rows × 22 columns</p>\n",
       "</div>"
      ],
      "text/plain": [
       "   Unnamed: 0  id                              belongs_to_collection  \\\n",
       "0           0   1  {'id': 313576, 'name': 'Hot Tub Time Machine C...   \n",
       "1           1   2  {'id': 107674, 'name': 'The Princess Diaries C...   \n",
       "2           2   3                                                NaN   \n",
       "3           3   4                                                NaN   \n",
       "4           4   5                                                NaN   \n",
       "\n",
       "        budget                                             genres language  \\\n",
       "0  14000000.00                     [{'id': 35, 'name': 'Comedy'}]       en   \n",
       "1  40000000.00  [{'id': 35, 'name': 'Comedy'}, {'id': 18, 'nam...       en   \n",
       "2   3300000.00                      [{'id': 18, 'name': 'Drama'}]       en   \n",
       "3   1200000.00  [{'id': 53, 'name': 'Thriller'}, {'id': 18, 'n...       hi   \n",
       "4  22531334.11  [{'id': 28, 'name': 'Action'}, {'id': 53, 'nam...       ko   \n",
       "\n",
       "                                            overview  popularity  \\\n",
       "0  When Lou, who has become the \"father of the In...    2.233967   \n",
       "1  Mia Thermopolis is now a college graduate and ...    2.802533   \n",
       "2  Under the direction of a ruthless instructor, ...   21.845701   \n",
       "3  Vidya Bagchi (Vidya Balan) arrives in Kolkata ...    1.078673   \n",
       "4  Marine Boy is the story of a former national s...    0.390053   \n",
       "\n",
       "                                production_companies  \\\n",
       "0  [{'name': 'Paramount Pictures', 'id': 4}, {'na...   \n",
       "1        [{'name': 'Walt Disney Pictures', 'id': 2}]   \n",
       "2  [{'name': 'Bold Films', 'id': 2266}, {'name': ...   \n",
       "3                                                NaN   \n",
       "4                                                NaN   \n",
       "\n",
       "                                production_countries  ...    status  \\\n",
       "0  [{'iso_3166_1': 'US', 'name': 'United States o...  ...  Released   \n",
       "1  [{'iso_3166_1': 'US', 'name': 'United States o...  ...  Released   \n",
       "2  [{'iso_3166_1': 'US', 'name': 'United States o...  ...  Released   \n",
       "3            [{'iso_3166_1': 'IN', 'name': 'India'}]  ...  Released   \n",
       "4      [{'iso_3166_1': 'KR', 'name': 'South Korea'}]  ...  Released   \n",
       "\n",
       "                                             tagline  \\\n",
       "0  The Laws of Space and Time are About to be Vio...   \n",
       "1  It can take a lifetime to find true love; she'...   \n",
       "2    The road to greatness can take you to the edge.   \n",
       "3                                                NaN   \n",
       "4                                                NaN   \n",
       "\n",
       "                                      title  \\\n",
       "0                    Hot Tub Time Machine 2   \n",
       "1  The Princess Diaries 2: Royal Engagement   \n",
       "2                                  Whiplash   \n",
       "3                                   Kahaani   \n",
       "4                                Marine Boy   \n",
       "\n",
       "                                            Keywords  \\\n",
       "0  [{'id': 4379, 'name': 'time travel'}, {'id': 9...   \n",
       "1  [{'id': 2505, 'name': 'coronation'}, {'id': 42...   \n",
       "2  [{'id': 1416, 'name': 'jazz'}, {'id': 1523, 'n...   \n",
       "3  [{'id': 10092, 'name': 'mystery'}, {'id': 1054...   \n",
       "4                                                NaN   \n",
       "\n",
       "                                                cast  \\\n",
       "0  [{'id': 52997, 'name': 'Rob Corddry', 'charate...   \n",
       "1  [{'id': 1813, 'name': 'Anne Hathaway', 'charat...   \n",
       "2  [{'id': 996701, 'name': 'Miles Teller', 'chara...   \n",
       "3  [{'id': 35068, 'name': 'Vidya Balan', 'charate...   \n",
       "4  [{'id': 84751, 'name': 'Kim Kang-woo', 'charat...   \n",
       "\n",
       "                                                crew   revenue release_year  \\\n",
       "0  [{'id': 1449071, 'name': 'Kelly Cantley', 'dep...  12314651         2015   \n",
       "1  [{'id': 1201, 'name': 'Garry Marshall', 'depar...  95149435         2004   \n",
       "2  [{'id': 494, 'name': 'Terri Taylor', 'departme...  13092000         2014   \n",
       "3  [{'id': 95510, 'name': 'Sujoy Ghosh', 'departm...  16000000         2012   \n",
       "4  [{'id': 84749, 'name': 'Jong-seok Yoon', 'depa...   3923970         2009   \n",
       "\n",
       "   release_day_of_the_week  release_date  \n",
       "0                   Friday    2015-02-20  \n",
       "1                   Friday    2004-08-06  \n",
       "2                   Friday    2014-10-10  \n",
       "3                   Friday    2012-03-09  \n",
       "4                 Thursday    2009-02-05  \n",
       "\n",
       "[5 rows x 22 columns]"
      ]
     },
     "execution_count": 361,
     "metadata": {},
     "output_type": "execute_result"
    }
   ],
   "source": [
    "df.head()"
   ]
  },
  {
   "cell_type": "code",
   "execution_count": 362,
   "id": "563afe02",
   "metadata": {},
   "outputs": [
    {
     "data": {
      "text/plain": [
       "(2400, 22)"
      ]
     },
     "execution_count": 362,
     "metadata": {},
     "output_type": "execute_result"
    }
   ],
   "source": [
    "df.shape"
   ]
  },
  {
   "cell_type": "code",
   "execution_count": 363,
   "id": "ac17ab35",
   "metadata": {
    "scrolled": true
   },
   "outputs": [
    {
     "data": {
      "text/plain": [
       "Index(['Unnamed: 0', 'id', 'belongs_to_collection', 'budget', 'genres',\n",
       "       'language', 'overview', 'popularity', 'production_companies',\n",
       "       'production_countries', 'runtime', 'spoken_languages', 'status',\n",
       "       'tagline', 'title', 'Keywords', 'cast', 'crew', 'revenue',\n",
       "       'release_year', 'release_day_of_the_week', 'release_date'],\n",
       "      dtype='object')"
      ]
     },
     "execution_count": 363,
     "metadata": {},
     "output_type": "execute_result"
    }
   ],
   "source": [
    "df.columns"
   ]
  },
  {
   "cell_type": "code",
   "execution_count": 364,
   "id": "8226060b",
   "metadata": {
    "scrolled": true
   },
   "outputs": [
    {
     "data": {
      "text/plain": [
       "(600, 21)"
      ]
     },
     "execution_count": 364,
     "metadata": {},
     "output_type": "execute_result"
    }
   ],
   "source": [
    "df_test.shape"
   ]
  },
  {
   "cell_type": "code",
   "execution_count": 365,
   "id": "4e55c7db",
   "metadata": {
    "scrolled": true
   },
   "outputs": [
    {
     "data": {
      "text/plain": [
       "Index(['Unnamed: 0', 'id', 'belongs_to_collection', 'budget', 'genres',\n",
       "       'language', 'overview', 'popularity', 'production_companies',\n",
       "       'production_countries', 'runtime', 'spoken_languages', 'status',\n",
       "       'tagline', 'title', 'Keywords', 'cast', 'crew', 'release_year',\n",
       "       'release_day_of_the_week', 'release_date'],\n",
       "      dtype='object')"
      ]
     },
     "execution_count": 365,
     "metadata": {},
     "output_type": "execute_result"
    }
   ],
   "source": [
    "df_test.columns"
   ]
  },
  {
   "cell_type": "code",
   "execution_count": 366,
   "id": "fe72ef50",
   "metadata": {
    "scrolled": false
   },
   "outputs": [
    {
     "data": {
      "text/plain": [
       "(480, 23)"
      ]
     },
     "execution_count": 366,
     "metadata": {},
     "output_type": "execute_result"
    }
   ],
   "source": [
    "df_submit.shape"
   ]
  },
  {
   "cell_type": "code",
   "execution_count": 367,
   "id": "f742b8f0",
   "metadata": {},
   "outputs": [
    {
     "data": {
      "text/plain": [
       "Index(['Unnamed: 0', 'id', 'belongs_to_collection', 'budget', 'genres',\n",
       "       'language', 'overview', 'popularity', 'production_companies',\n",
       "       'production_countries', 'runtime', 'spoken_languages', 'status',\n",
       "       'tagline', 'title', 'Keywords', 'cast', 'crew', 'revenue',\n",
       "       'release_year', 'release_day_of_the_week', 'release_date',\n",
       "       'predicted_revenue'],\n",
       "      dtype='object')"
      ]
     },
     "execution_count": 367,
     "metadata": {},
     "output_type": "execute_result"
    }
   ],
   "source": [
    "df_submit.columns"
   ]
  },
  {
   "cell_type": "markdown",
   "id": "28c1b239",
   "metadata": {},
   "source": [
    "# Revenue column in sample submission not present in test data"
   ]
  },
  {
   "cell_type": "code",
   "execution_count": 368,
   "id": "9d69fdcd",
   "metadata": {
    "scrolled": true
   },
   "outputs": [
    {
     "name": "stdout",
     "output_type": "stream",
     "text": [
      "<class 'pandas.core.frame.DataFrame'>\n",
      "RangeIndex: 2400 entries, 0 to 2399\n",
      "Data columns (total 22 columns):\n",
      " #   Column                   Non-Null Count  Dtype  \n",
      "---  ------                   --------------  -----  \n",
      " 0   Unnamed: 0               2400 non-null   int64  \n",
      " 1   id                       2400 non-null   int64  \n",
      " 2   belongs_to_collection    492 non-null    object \n",
      " 3   budget                   2400 non-null   float64\n",
      " 4   genres                   2396 non-null   object \n",
      " 5   language                 2400 non-null   object \n",
      " 6   overview                 2393 non-null   object \n",
      " 7   popularity               2400 non-null   float64\n",
      " 8   production_companies     2270 non-null   object \n",
      " 9   production_countries     2358 non-null   object \n",
      " 10  runtime                  2400 non-null   float64\n",
      " 11  spoken_languages         2384 non-null   object \n",
      " 12  status                   2400 non-null   object \n",
      " 13  tagline                  1923 non-null   object \n",
      " 14  title                    2400 non-null   object \n",
      " 15  Keywords                 2181 non-null   object \n",
      " 16  cast                     2392 non-null   object \n",
      " 17  crew                     2389 non-null   object \n",
      " 18  revenue                  2400 non-null   int64  \n",
      " 19  release_year             2400 non-null   int64  \n",
      " 20  release_day_of_the_week  2400 non-null   object \n",
      " 21  release_date             2400 non-null   object \n",
      "dtypes: float64(3), int64(4), object(15)\n",
      "memory usage: 412.6+ KB\n"
     ]
    }
   ],
   "source": [
    "df.info()"
   ]
  },
  {
   "cell_type": "code",
   "execution_count": 369,
   "id": "2343453e",
   "metadata": {},
   "outputs": [
    {
     "data": {
      "text/html": [
       "<div>\n",
       "<style scoped>\n",
       "    .dataframe tbody tr th:only-of-type {\n",
       "        vertical-align: middle;\n",
       "    }\n",
       "\n",
       "    .dataframe tbody tr th {\n",
       "        vertical-align: top;\n",
       "    }\n",
       "\n",
       "    .dataframe thead th {\n",
       "        text-align: right;\n",
       "    }\n",
       "</style>\n",
       "<table border=\"1\" class=\"dataframe\">\n",
       "  <thead>\n",
       "    <tr style=\"text-align: right;\">\n",
       "      <th></th>\n",
       "      <th>Unnamed: 0</th>\n",
       "      <th>id</th>\n",
       "      <th>budget</th>\n",
       "      <th>popularity</th>\n",
       "      <th>runtime</th>\n",
       "      <th>revenue</th>\n",
       "      <th>release_year</th>\n",
       "    </tr>\n",
       "  </thead>\n",
       "  <tbody>\n",
       "    <tr>\n",
       "      <th>count</th>\n",
       "      <td>2400.000000</td>\n",
       "      <td>2400.000000</td>\n",
       "      <td>2.400000e+03</td>\n",
       "      <td>2400.000000</td>\n",
       "      <td>2400.000000</td>\n",
       "      <td>2.400000e+03</td>\n",
       "      <td>2400.000000</td>\n",
       "    </tr>\n",
       "    <tr>\n",
       "      <th>mean</th>\n",
       "      <td>1199.500000</td>\n",
       "      <td>1200.500000</td>\n",
       "      <td>2.835857e+07</td>\n",
       "      <td>2.921051</td>\n",
       "      <td>107.946964</td>\n",
       "      <td>6.716361e+07</td>\n",
       "      <td>2002.689167</td>\n",
       "    </tr>\n",
       "    <tr>\n",
       "      <th>std</th>\n",
       "      <td>692.964646</td>\n",
       "      <td>692.964646</td>\n",
       "      <td>3.479177e+07</td>\n",
       "      <td>4.497538</td>\n",
       "      <td>22.173764</td>\n",
       "      <td>1.381544e+08</td>\n",
       "      <td>10.868921</td>\n",
       "    </tr>\n",
       "    <tr>\n",
       "      <th>min</th>\n",
       "      <td>0.000000</td>\n",
       "      <td>1.000000</td>\n",
       "      <td>1.000000e+00</td>\n",
       "      <td>0.000104</td>\n",
       "      <td>0.000000</td>\n",
       "      <td>1.000000e+00</td>\n",
       "      <td>1969.000000</td>\n",
       "    </tr>\n",
       "    <tr>\n",
       "      <th>25%</th>\n",
       "      <td>599.750000</td>\n",
       "      <td>600.750000</td>\n",
       "      <td>9.000000e+06</td>\n",
       "      <td>1.384088</td>\n",
       "      <td>94.000000</td>\n",
       "      <td>2.283286e+06</td>\n",
       "      <td>1995.000000</td>\n",
       "    </tr>\n",
       "    <tr>\n",
       "      <th>50%</th>\n",
       "      <td>1199.500000</td>\n",
       "      <td>1200.500000</td>\n",
       "      <td>2.253133e+07</td>\n",
       "      <td>2.517862</td>\n",
       "      <td>104.000000</td>\n",
       "      <td>1.635610e+07</td>\n",
       "      <td>2006.000000</td>\n",
       "    </tr>\n",
       "    <tr>\n",
       "      <th>75%</th>\n",
       "      <td>1799.250000</td>\n",
       "      <td>1800.250000</td>\n",
       "      <td>2.700000e+07</td>\n",
       "      <td>3.688615</td>\n",
       "      <td>118.000000</td>\n",
       "      <td>6.985050e+07</td>\n",
       "      <td>2011.000000</td>\n",
       "    </tr>\n",
       "    <tr>\n",
       "      <th>max</th>\n",
       "      <td>2399.000000</td>\n",
       "      <td>2400.000000</td>\n",
       "      <td>3.800000e+08</td>\n",
       "      <td>100.000000</td>\n",
       "      <td>338.000000</td>\n",
       "      <td>1.519558e+09</td>\n",
       "      <td>2017.000000</td>\n",
       "    </tr>\n",
       "  </tbody>\n",
       "</table>\n",
       "</div>"
      ],
      "text/plain": [
       "        Unnamed: 0           id        budget   popularity      runtime  \\\n",
       "count  2400.000000  2400.000000  2.400000e+03  2400.000000  2400.000000   \n",
       "mean   1199.500000  1200.500000  2.835857e+07     2.921051   107.946964   \n",
       "std     692.964646   692.964646  3.479177e+07     4.497538    22.173764   \n",
       "min       0.000000     1.000000  1.000000e+00     0.000104     0.000000   \n",
       "25%     599.750000   600.750000  9.000000e+06     1.384088    94.000000   \n",
       "50%    1199.500000  1200.500000  2.253133e+07     2.517862   104.000000   \n",
       "75%    1799.250000  1800.250000  2.700000e+07     3.688615   118.000000   \n",
       "max    2399.000000  2400.000000  3.800000e+08   100.000000   338.000000   \n",
       "\n",
       "            revenue  release_year  \n",
       "count  2.400000e+03   2400.000000  \n",
       "mean   6.716361e+07   2002.689167  \n",
       "std    1.381544e+08     10.868921  \n",
       "min    1.000000e+00   1969.000000  \n",
       "25%    2.283286e+06   1995.000000  \n",
       "50%    1.635610e+07   2006.000000  \n",
       "75%    6.985050e+07   2011.000000  \n",
       "max    1.519558e+09   2017.000000  "
      ]
     },
     "execution_count": 369,
     "metadata": {},
     "output_type": "execute_result"
    }
   ],
   "source": [
    "df.describe()"
   ]
  },
  {
   "cell_type": "code",
   "execution_count": 370,
   "id": "ac44380d",
   "metadata": {},
   "outputs": [
    {
     "data": {
      "text/html": [
       "<div>\n",
       "<style scoped>\n",
       "    .dataframe tbody tr th:only-of-type {\n",
       "        vertical-align: middle;\n",
       "    }\n",
       "\n",
       "    .dataframe tbody tr th {\n",
       "        vertical-align: top;\n",
       "    }\n",
       "\n",
       "    .dataframe thead th {\n",
       "        text-align: right;\n",
       "    }\n",
       "</style>\n",
       "<table border=\"1\" class=\"dataframe\">\n",
       "  <thead>\n",
       "    <tr style=\"text-align: right;\">\n",
       "      <th></th>\n",
       "      <th>Unnamed: 0</th>\n",
       "      <th>id</th>\n",
       "      <th>belongs_to_collection</th>\n",
       "      <th>budget</th>\n",
       "      <th>genres</th>\n",
       "      <th>language</th>\n",
       "      <th>overview</th>\n",
       "      <th>popularity</th>\n",
       "      <th>production_companies</th>\n",
       "      <th>production_countries</th>\n",
       "      <th>...</th>\n",
       "      <th>status</th>\n",
       "      <th>tagline</th>\n",
       "      <th>title</th>\n",
       "      <th>Keywords</th>\n",
       "      <th>cast</th>\n",
       "      <th>crew</th>\n",
       "      <th>revenue</th>\n",
       "      <th>release_year</th>\n",
       "      <th>release_day_of_the_week</th>\n",
       "      <th>release_date</th>\n",
       "    </tr>\n",
       "  </thead>\n",
       "  <tbody>\n",
       "    <tr>\n",
       "      <th>count</th>\n",
       "      <td>2400.000000</td>\n",
       "      <td>2400.000000</td>\n",
       "      <td>492</td>\n",
       "      <td>2.400000e+03</td>\n",
       "      <td>2396</td>\n",
       "      <td>2400</td>\n",
       "      <td>2393</td>\n",
       "      <td>2400.000000</td>\n",
       "      <td>2270</td>\n",
       "      <td>2358</td>\n",
       "      <td>...</td>\n",
       "      <td>2400</td>\n",
       "      <td>1923</td>\n",
       "      <td>2400</td>\n",
       "      <td>2181</td>\n",
       "      <td>2392</td>\n",
       "      <td>2389</td>\n",
       "      <td>2.400000e+03</td>\n",
       "      <td>2400.000000</td>\n",
       "      <td>2400</td>\n",
       "      <td>2400</td>\n",
       "    </tr>\n",
       "    <tr>\n",
       "      <th>unique</th>\n",
       "      <td>NaN</td>\n",
       "      <td>NaN</td>\n",
       "      <td>363</td>\n",
       "      <td>NaN</td>\n",
       "      <td>739</td>\n",
       "      <td>35</td>\n",
       "      <td>2393</td>\n",
       "      <td>NaN</td>\n",
       "      <td>1919</td>\n",
       "      <td>283</td>\n",
       "      <td>...</td>\n",
       "      <td>2</td>\n",
       "      <td>1921</td>\n",
       "      <td>2380</td>\n",
       "      <td>2123</td>\n",
       "      <td>2383</td>\n",
       "      <td>2387</td>\n",
       "      <td>NaN</td>\n",
       "      <td>NaN</td>\n",
       "      <td>7</td>\n",
       "      <td>1952</td>\n",
       "    </tr>\n",
       "    <tr>\n",
       "      <th>top</th>\n",
       "      <td>NaN</td>\n",
       "      <td>NaN</td>\n",
       "      <td>{'id': 645, 'name': 'James Bond Collection'}</td>\n",
       "      <td>NaN</td>\n",
       "      <td>[{'id': 18, 'name': 'Drama'}]</td>\n",
       "      <td>en</td>\n",
       "      <td>When Lou, who has become the \"father of the In...</td>\n",
       "      <td>NaN</td>\n",
       "      <td>[{'name': 'Paramount Pictures', 'id': 4}]</td>\n",
       "      <td>[{'iso_3166_1': 'US', 'name': 'United States o...</td>\n",
       "      <td>...</td>\n",
       "      <td>Released</td>\n",
       "      <td>Who is John Galt?</td>\n",
       "      <td>Ghost</td>\n",
       "      <td>[{'id': 10183, 'name': 'independent film'}]</td>\n",
       "      <td>[]</td>\n",
       "      <td>[{'id': 67361, 'name': 'Marius Balchunas', 'de...</td>\n",
       "      <td>NaN</td>\n",
       "      <td>NaN</td>\n",
       "      <td>Friday</td>\n",
       "      <td>2015-09-10</td>\n",
       "    </tr>\n",
       "    <tr>\n",
       "      <th>freq</th>\n",
       "      <td>NaN</td>\n",
       "      <td>NaN</td>\n",
       "      <td>14</td>\n",
       "      <td>NaN</td>\n",
       "      <td>217</td>\n",
       "      <td>2050</td>\n",
       "      <td>1</td>\n",
       "      <td>NaN</td>\n",
       "      <td>42</td>\n",
       "      <td>1388</td>\n",
       "      <td>...</td>\n",
       "      <td>2396</td>\n",
       "      <td>2</td>\n",
       "      <td>2</td>\n",
       "      <td>19</td>\n",
       "      <td>10</td>\n",
       "      <td>2</td>\n",
       "      <td>NaN</td>\n",
       "      <td>NaN</td>\n",
       "      <td>1055</td>\n",
       "      <td>5</td>\n",
       "    </tr>\n",
       "    <tr>\n",
       "      <th>mean</th>\n",
       "      <td>1199.500000</td>\n",
       "      <td>1200.500000</td>\n",
       "      <td>NaN</td>\n",
       "      <td>2.835857e+07</td>\n",
       "      <td>NaN</td>\n",
       "      <td>NaN</td>\n",
       "      <td>NaN</td>\n",
       "      <td>2.921051</td>\n",
       "      <td>NaN</td>\n",
       "      <td>NaN</td>\n",
       "      <td>...</td>\n",
       "      <td>NaN</td>\n",
       "      <td>NaN</td>\n",
       "      <td>NaN</td>\n",
       "      <td>NaN</td>\n",
       "      <td>NaN</td>\n",
       "      <td>NaN</td>\n",
       "      <td>6.716361e+07</td>\n",
       "      <td>2002.689167</td>\n",
       "      <td>NaN</td>\n",
       "      <td>NaN</td>\n",
       "    </tr>\n",
       "    <tr>\n",
       "      <th>std</th>\n",
       "      <td>692.964646</td>\n",
       "      <td>692.964646</td>\n",
       "      <td>NaN</td>\n",
       "      <td>3.479177e+07</td>\n",
       "      <td>NaN</td>\n",
       "      <td>NaN</td>\n",
       "      <td>NaN</td>\n",
       "      <td>4.497538</td>\n",
       "      <td>NaN</td>\n",
       "      <td>NaN</td>\n",
       "      <td>...</td>\n",
       "      <td>NaN</td>\n",
       "      <td>NaN</td>\n",
       "      <td>NaN</td>\n",
       "      <td>NaN</td>\n",
       "      <td>NaN</td>\n",
       "      <td>NaN</td>\n",
       "      <td>1.381544e+08</td>\n",
       "      <td>10.868921</td>\n",
       "      <td>NaN</td>\n",
       "      <td>NaN</td>\n",
       "    </tr>\n",
       "    <tr>\n",
       "      <th>min</th>\n",
       "      <td>0.000000</td>\n",
       "      <td>1.000000</td>\n",
       "      <td>NaN</td>\n",
       "      <td>1.000000e+00</td>\n",
       "      <td>NaN</td>\n",
       "      <td>NaN</td>\n",
       "      <td>NaN</td>\n",
       "      <td>0.000104</td>\n",
       "      <td>NaN</td>\n",
       "      <td>NaN</td>\n",
       "      <td>...</td>\n",
       "      <td>NaN</td>\n",
       "      <td>NaN</td>\n",
       "      <td>NaN</td>\n",
       "      <td>NaN</td>\n",
       "      <td>NaN</td>\n",
       "      <td>NaN</td>\n",
       "      <td>1.000000e+00</td>\n",
       "      <td>1969.000000</td>\n",
       "      <td>NaN</td>\n",
       "      <td>NaN</td>\n",
       "    </tr>\n",
       "    <tr>\n",
       "      <th>25%</th>\n",
       "      <td>599.750000</td>\n",
       "      <td>600.750000</td>\n",
       "      <td>NaN</td>\n",
       "      <td>9.000000e+06</td>\n",
       "      <td>NaN</td>\n",
       "      <td>NaN</td>\n",
       "      <td>NaN</td>\n",
       "      <td>1.384088</td>\n",
       "      <td>NaN</td>\n",
       "      <td>NaN</td>\n",
       "      <td>...</td>\n",
       "      <td>NaN</td>\n",
       "      <td>NaN</td>\n",
       "      <td>NaN</td>\n",
       "      <td>NaN</td>\n",
       "      <td>NaN</td>\n",
       "      <td>NaN</td>\n",
       "      <td>2.283286e+06</td>\n",
       "      <td>1995.000000</td>\n",
       "      <td>NaN</td>\n",
       "      <td>NaN</td>\n",
       "    </tr>\n",
       "    <tr>\n",
       "      <th>50%</th>\n",
       "      <td>1199.500000</td>\n",
       "      <td>1200.500000</td>\n",
       "      <td>NaN</td>\n",
       "      <td>2.253133e+07</td>\n",
       "      <td>NaN</td>\n",
       "      <td>NaN</td>\n",
       "      <td>NaN</td>\n",
       "      <td>2.517862</td>\n",
       "      <td>NaN</td>\n",
       "      <td>NaN</td>\n",
       "      <td>...</td>\n",
       "      <td>NaN</td>\n",
       "      <td>NaN</td>\n",
       "      <td>NaN</td>\n",
       "      <td>NaN</td>\n",
       "      <td>NaN</td>\n",
       "      <td>NaN</td>\n",
       "      <td>1.635610e+07</td>\n",
       "      <td>2006.000000</td>\n",
       "      <td>NaN</td>\n",
       "      <td>NaN</td>\n",
       "    </tr>\n",
       "    <tr>\n",
       "      <th>75%</th>\n",
       "      <td>1799.250000</td>\n",
       "      <td>1800.250000</td>\n",
       "      <td>NaN</td>\n",
       "      <td>2.700000e+07</td>\n",
       "      <td>NaN</td>\n",
       "      <td>NaN</td>\n",
       "      <td>NaN</td>\n",
       "      <td>3.688615</td>\n",
       "      <td>NaN</td>\n",
       "      <td>NaN</td>\n",
       "      <td>...</td>\n",
       "      <td>NaN</td>\n",
       "      <td>NaN</td>\n",
       "      <td>NaN</td>\n",
       "      <td>NaN</td>\n",
       "      <td>NaN</td>\n",
       "      <td>NaN</td>\n",
       "      <td>6.985050e+07</td>\n",
       "      <td>2011.000000</td>\n",
       "      <td>NaN</td>\n",
       "      <td>NaN</td>\n",
       "    </tr>\n",
       "    <tr>\n",
       "      <th>max</th>\n",
       "      <td>2399.000000</td>\n",
       "      <td>2400.000000</td>\n",
       "      <td>NaN</td>\n",
       "      <td>3.800000e+08</td>\n",
       "      <td>NaN</td>\n",
       "      <td>NaN</td>\n",
       "      <td>NaN</td>\n",
       "      <td>100.000000</td>\n",
       "      <td>NaN</td>\n",
       "      <td>NaN</td>\n",
       "      <td>...</td>\n",
       "      <td>NaN</td>\n",
       "      <td>NaN</td>\n",
       "      <td>NaN</td>\n",
       "      <td>NaN</td>\n",
       "      <td>NaN</td>\n",
       "      <td>NaN</td>\n",
       "      <td>1.519558e+09</td>\n",
       "      <td>2017.000000</td>\n",
       "      <td>NaN</td>\n",
       "      <td>NaN</td>\n",
       "    </tr>\n",
       "  </tbody>\n",
       "</table>\n",
       "<p>11 rows × 22 columns</p>\n",
       "</div>"
      ],
      "text/plain": [
       "         Unnamed: 0           id  \\\n",
       "count   2400.000000  2400.000000   \n",
       "unique          NaN          NaN   \n",
       "top             NaN          NaN   \n",
       "freq            NaN          NaN   \n",
       "mean    1199.500000  1200.500000   \n",
       "std      692.964646   692.964646   \n",
       "min        0.000000     1.000000   \n",
       "25%      599.750000   600.750000   \n",
       "50%     1199.500000  1200.500000   \n",
       "75%     1799.250000  1800.250000   \n",
       "max     2399.000000  2400.000000   \n",
       "\n",
       "                               belongs_to_collection        budget  \\\n",
       "count                                            492  2.400000e+03   \n",
       "unique                                           363           NaN   \n",
       "top     {'id': 645, 'name': 'James Bond Collection'}           NaN   \n",
       "freq                                              14           NaN   \n",
       "mean                                             NaN  2.835857e+07   \n",
       "std                                              NaN  3.479177e+07   \n",
       "min                                              NaN  1.000000e+00   \n",
       "25%                                              NaN  9.000000e+06   \n",
       "50%                                              NaN  2.253133e+07   \n",
       "75%                                              NaN  2.700000e+07   \n",
       "max                                              NaN  3.800000e+08   \n",
       "\n",
       "                               genres language  \\\n",
       "count                            2396     2400   \n",
       "unique                            739       35   \n",
       "top     [{'id': 18, 'name': 'Drama'}]       en   \n",
       "freq                              217     2050   \n",
       "mean                              NaN      NaN   \n",
       "std                               NaN      NaN   \n",
       "min                               NaN      NaN   \n",
       "25%                               NaN      NaN   \n",
       "50%                               NaN      NaN   \n",
       "75%                               NaN      NaN   \n",
       "max                               NaN      NaN   \n",
       "\n",
       "                                                 overview   popularity  \\\n",
       "count                                                2393  2400.000000   \n",
       "unique                                               2393          NaN   \n",
       "top     When Lou, who has become the \"father of the In...          NaN   \n",
       "freq                                                    1          NaN   \n",
       "mean                                                  NaN     2.921051   \n",
       "std                                                   NaN     4.497538   \n",
       "min                                                   NaN     0.000104   \n",
       "25%                                                   NaN     1.384088   \n",
       "50%                                                   NaN     2.517862   \n",
       "75%                                                   NaN     3.688615   \n",
       "max                                                   NaN   100.000000   \n",
       "\n",
       "                             production_companies  \\\n",
       "count                                        2270   \n",
       "unique                                       1919   \n",
       "top     [{'name': 'Paramount Pictures', 'id': 4}]   \n",
       "freq                                           42   \n",
       "mean                                          NaN   \n",
       "std                                           NaN   \n",
       "min                                           NaN   \n",
       "25%                                           NaN   \n",
       "50%                                           NaN   \n",
       "75%                                           NaN   \n",
       "max                                           NaN   \n",
       "\n",
       "                                     production_countries  ...    status  \\\n",
       "count                                                2358  ...      2400   \n",
       "unique                                                283  ...         2   \n",
       "top     [{'iso_3166_1': 'US', 'name': 'United States o...  ...  Released   \n",
       "freq                                                 1388  ...      2396   \n",
       "mean                                                  NaN  ...       NaN   \n",
       "std                                                   NaN  ...       NaN   \n",
       "min                                                   NaN  ...       NaN   \n",
       "25%                                                   NaN  ...       NaN   \n",
       "50%                                                   NaN  ...       NaN   \n",
       "75%                                                   NaN  ...       NaN   \n",
       "max                                                   NaN  ...       NaN   \n",
       "\n",
       "                  tagline  title                                     Keywords  \\\n",
       "count                1923   2400                                         2181   \n",
       "unique               1921   2380                                         2123   \n",
       "top     Who is John Galt?  Ghost  [{'id': 10183, 'name': 'independent film'}]   \n",
       "freq                    2      2                                           19   \n",
       "mean                  NaN    NaN                                          NaN   \n",
       "std                   NaN    NaN                                          NaN   \n",
       "min                   NaN    NaN                                          NaN   \n",
       "25%                   NaN    NaN                                          NaN   \n",
       "50%                   NaN    NaN                                          NaN   \n",
       "75%                   NaN    NaN                                          NaN   \n",
       "max                   NaN    NaN                                          NaN   \n",
       "\n",
       "        cast                                               crew       revenue  \\\n",
       "count   2392                                               2389  2.400000e+03   \n",
       "unique  2383                                               2387           NaN   \n",
       "top       []  [{'id': 67361, 'name': 'Marius Balchunas', 'de...           NaN   \n",
       "freq      10                                                  2           NaN   \n",
       "mean     NaN                                                NaN  6.716361e+07   \n",
       "std      NaN                                                NaN  1.381544e+08   \n",
       "min      NaN                                                NaN  1.000000e+00   \n",
       "25%      NaN                                                NaN  2.283286e+06   \n",
       "50%      NaN                                                NaN  1.635610e+07   \n",
       "75%      NaN                                                NaN  6.985050e+07   \n",
       "max      NaN                                                NaN  1.519558e+09   \n",
       "\n",
       "       release_year  release_day_of_the_week  release_date  \n",
       "count   2400.000000                     2400          2400  \n",
       "unique          NaN                        7          1952  \n",
       "top             NaN                   Friday    2015-09-10  \n",
       "freq            NaN                     1055             5  \n",
       "mean    2002.689167                      NaN           NaN  \n",
       "std       10.868921                      NaN           NaN  \n",
       "min     1969.000000                      NaN           NaN  \n",
       "25%     1995.000000                      NaN           NaN  \n",
       "50%     2006.000000                      NaN           NaN  \n",
       "75%     2011.000000                      NaN           NaN  \n",
       "max     2017.000000                      NaN           NaN  \n",
       "\n",
       "[11 rows x 22 columns]"
      ]
     },
     "execution_count": 370,
     "metadata": {},
     "output_type": "execute_result"
    }
   ],
   "source": [
    "df.describe(include=\"all\")"
   ]
  },
  {
   "cell_type": "markdown",
   "id": "52a3f987",
   "metadata": {
    "pycharm": {
     "is_executing": true,
     "name": "#%%\n"
    }
   },
   "source": [
    "### Missing Values in Test and Train dataset"
   ]
  },
  {
   "cell_type": "code",
   "execution_count": 371,
   "id": "32c86eeb",
   "metadata": {},
   "outputs": [
    {
     "data": {
      "text/plain": [
       "Unnamed: 0                    0\n",
       "id                            0\n",
       "belongs_to_collection      1908\n",
       "budget                        0\n",
       "genres                        4\n",
       "language                      0\n",
       "overview                      7\n",
       "popularity                    0\n",
       "production_companies        130\n",
       "production_countries         42\n",
       "runtime                       0\n",
       "spoken_languages             16\n",
       "status                        0\n",
       "tagline                     477\n",
       "title                         0\n",
       "Keywords                    219\n",
       "cast                          8\n",
       "crew                         11\n",
       "revenue                       0\n",
       "release_year                  0\n",
       "release_day_of_the_week       0\n",
       "release_date                  0\n",
       "dtype: int64"
      ]
     },
     "execution_count": 371,
     "metadata": {},
     "output_type": "execute_result"
    }
   ],
   "source": [
    "df.isna().sum()"
   ]
  },
  {
   "cell_type": "code",
   "execution_count": 372,
   "id": "1dd3c156",
   "metadata": {},
   "outputs": [
    {
     "data": {
      "text/plain": [
       "Unnamed: 0                   0\n",
       "id                           0\n",
       "belongs_to_collection      488\n",
       "budget                       0\n",
       "genres                       3\n",
       "language                     0\n",
       "overview                     1\n",
       "popularity                   0\n",
       "production_companies        26\n",
       "production_countries        13\n",
       "runtime                      0\n",
       "spoken_languages             4\n",
       "status                       0\n",
       "tagline                    120\n",
       "title                        0\n",
       "Keywords                    57\n",
       "cast                         5\n",
       "crew                         5\n",
       "release_year                 0\n",
       "release_day_of_the_week      0\n",
       "release_date                 0\n",
       "dtype: int64"
      ]
     },
     "execution_count": 372,
     "metadata": {},
     "output_type": "execute_result"
    }
   ],
   "source": [
    "df_test.isna().sum()"
   ]
  },
  {
   "cell_type": "code",
   "execution_count": 373,
   "id": "fb3a6cab",
   "metadata": {},
   "outputs": [
    {
     "data": {
      "image/png": "[encoded data removed]",
      "text/plain": [
       "<Figure size 1080x504 with 6 Axes>"
      ]
     },
     "metadata": {
      "needs_background": "light"
     },
     "output_type": "display_data"
    }
   ],
   "source": [
    "fig, ax = plt.subplots(2, 3, figsize=(15, 7), tight_layout=True)\n",
    "\n",
    "df.plot(ax=ax[0][0], x='budget', y='revenue', style='o', ylabel= 'revenue', color='green').set_title('Revenue & Budget', fontweight=\"bold\")\n",
    "ax[0][0].grid()\n",
    "\n",
    "df.plot(ax=ax[0][1], x='popularity', y='revenue', style='o', ylabel= 'revenue').set_title('Revenue & Popularity', fontweight=\"bold\")\n",
    "ax[0][1].grid()\n",
    "\n",
    "df.plot(ax=ax[0][2], x='runtime', y='revenue', style='o', ylabel= 'revenue', color='slateblue').set_title('Revenue & Runtime', fontweight=\"bold\")\n",
    "ax[0][2].grid()\n",
    "\n",
    "df.plot(ax=ax[1][0], x='budget', y='popularity', style='o', ylabel= 'popularity', color='salmon').set_title('Popularity & Budget', fontweight=\"bold\")\n",
    "ax[1][0].grid()\n",
    "\n",
    "df.plot(ax=ax[1][1], x='runtime', y='budget', style='o', ylabel= 'budget', color='DarkBlue').set_title('Runtime & Budget', fontweight=\"bold\")\n",
    "ax[1][1].grid()\n",
    "\n",
    "df.plot(ax=ax[1][2], x='runtime', y='popularity', style='o', ylabel= 'popularity', color='red').set_title('Popularity & Runtime', fontweight=\"bold\")\n",
    "ax[1][2].grid()\n",
    "\n",
    "fig.tight_layout(pad=4.0)\n",
    "plt.show()"
   ]
  },
  {
   "cell_type": "code",
   "execution_count": 374,
   "id": "32d5e483",
   "metadata": {},
   "outputs": [],
   "source": [
    "df_temp = df.copy()\n",
    "df_testcopy = df_test.copy()"
   ]
  },
  {
   "cell_type": "markdown",
   "id": "f74fc4bd",
   "metadata": {},
   "source": [
    "Dropping Categorical Columns in the form of dictionaries"
   ]
  },
  {
   "cell_type": "code",
   "execution_count": 375,
   "id": "f8093a83",
   "metadata": {},
   "outputs": [],
   "source": [
    "df_temp.drop(columns = ['Unnamed: 0', 'id', 'genres', 'belongs_to_collection','overview', 'production_companies', 'production_countries','spoken_languages', 'tagline', 'title', 'Keywords', 'cast', 'crew', 'release_date'], axis = 1, inplace = True)"
   ]
  },
  {
   "cell_type": "code",
   "execution_count": 376,
   "id": "1007d51b",
   "metadata": {},
   "outputs": [],
   "source": [
    "df_test.drop(columns = ['Unnamed: 0', 'id', 'genres', 'belongs_to_collection','overview', 'production_companies', 'production_countries','spoken_languages', 'tagline', 'title', 'Keywords', 'cast', 'crew', 'release_date'], axis = 1, inplace = True)"
   ]
  },
  {
   "cell_type": "code",
   "execution_count": 377,
   "id": "1e6c6b23",
   "metadata": {},
   "outputs": [
    {
     "data": {
      "text/html": [
       "<div>\n",
       "<style scoped>\n",
       "    .dataframe tbody tr th:only-of-type {\n",
       "        vertical-align: middle;\n",
       "    }\n",
       "\n",
       "    .dataframe tbody tr th {\n",
       "        vertical-align: top;\n",
       "    }\n",
       "\n",
       "    .dataframe thead th {\n",
       "        text-align: right;\n",
       "    }\n",
       "</style>\n",
       "<table border=\"1\" class=\"dataframe\">\n",
       "  <thead>\n",
       "    <tr style=\"text-align: right;\">\n",
       "      <th></th>\n",
       "      <th>budget</th>\n",
       "      <th>language</th>\n",
       "      <th>popularity</th>\n",
       "      <th>runtime</th>\n",
       "      <th>status</th>\n",
       "      <th>release_year</th>\n",
       "      <th>release_day_of_the_week</th>\n",
       "    </tr>\n",
       "  </thead>\n",
       "  <tbody>\n",
       "    <tr>\n",
       "      <th>0</th>\n",
       "      <td>22531334.11</td>\n",
       "      <td>en</td>\n",
       "      <td>3.368959</td>\n",
       "      <td>110.0</td>\n",
       "      <td>Released</td>\n",
       "      <td>2000</td>\n",
       "      <td>Tuesday</td>\n",
       "    </tr>\n",
       "    <tr>\n",
       "      <th>1</th>\n",
       "      <td>60000000.00</td>\n",
       "      <td>en</td>\n",
       "      <td>2.279772</td>\n",
       "      <td>109.0</td>\n",
       "      <td>Released</td>\n",
       "      <td>1994</td>\n",
       "      <td>Tuesday</td>\n",
       "    </tr>\n",
       "    <tr>\n",
       "      <th>2</th>\n",
       "      <td>60000000.00</td>\n",
       "      <td>en</td>\n",
       "      <td>3.661156</td>\n",
       "      <td>101.0</td>\n",
       "      <td>Released</td>\n",
       "      <td>2004</td>\n",
       "      <td>Friday</td>\n",
       "    </tr>\n",
       "    <tr>\n",
       "      <th>3</th>\n",
       "      <td>47000000.00</td>\n",
       "      <td>en</td>\n",
       "      <td>1.871012</td>\n",
       "      <td>125.0</td>\n",
       "      <td>Released</td>\n",
       "      <td>1990</td>\n",
       "      <td>Friday</td>\n",
       "    </tr>\n",
       "    <tr>\n",
       "      <th>4</th>\n",
       "      <td>37000000.00</td>\n",
       "      <td>en</td>\n",
       "      <td>4.444294</td>\n",
       "      <td>125.0</td>\n",
       "      <td>Released</td>\n",
       "      <td>2010</td>\n",
       "      <td>Wednesday</td>\n",
       "    </tr>\n",
       "  </tbody>\n",
       "</table>\n",
       "</div>"
      ],
      "text/plain": [
       "        budget language  popularity  runtime    status  release_year  \\\n",
       "0  22531334.11       en    3.368959    110.0  Released          2000   \n",
       "1  60000000.00       en    2.279772    109.0  Released          1994   \n",
       "2  60000000.00       en    3.661156    101.0  Released          2004   \n",
       "3  47000000.00       en    1.871012    125.0  Released          1990   \n",
       "4  37000000.00       en    4.444294    125.0  Released          2010   \n",
       "\n",
       "  release_day_of_the_week  \n",
       "0                 Tuesday  \n",
       "1                 Tuesday  \n",
       "2                  Friday  \n",
       "3                  Friday  \n",
       "4               Wednesday  "
      ]
     },
     "execution_count": 377,
     "metadata": {},
     "output_type": "execute_result"
    }
   ],
   "source": [
    "df_test.head()"
   ]
  },
  {
   "cell_type": "code",
   "execution_count": 378,
   "id": "92712c11",
   "metadata": {},
   "outputs": [
    {
     "data": {
      "text/plain": [
       "budget                     0\n",
       "language                   0\n",
       "popularity                 0\n",
       "runtime                    0\n",
       "status                     0\n",
       "revenue                    0\n",
       "release_year               0\n",
       "release_day_of_the_week    0\n",
       "dtype: int64"
      ]
     },
     "execution_count": 378,
     "metadata": {},
     "output_type": "execute_result"
    }
   ],
   "source": [
    "df_temp.isnull().sum()"
   ]
  },
  {
   "cell_type": "code",
   "execution_count": 379,
   "id": "6debb6a4",
   "metadata": {},
   "outputs": [
    {
     "data": {
      "text/plain": [
       "budget                     0\n",
       "language                   0\n",
       "popularity                 0\n",
       "runtime                    0\n",
       "status                     0\n",
       "release_year               0\n",
       "release_day_of_the_week    0\n",
       "dtype: int64"
      ]
     },
     "execution_count": 379,
     "metadata": {},
     "output_type": "execute_result"
    }
   ],
   "source": [
    "df_test.isnull().sum()"
   ]
  },
  {
   "cell_type": "code",
   "execution_count": 380,
   "id": "432d8019",
   "metadata": {},
   "outputs": [
    {
     "data": {
      "text/plain": [
       "(2400, 8)"
      ]
     },
     "execution_count": 380,
     "metadata": {},
     "output_type": "execute_result"
    }
   ],
   "source": [
    "df_temp.shape"
   ]
  },
  {
   "cell_type": "code",
   "execution_count": 381,
   "id": "6d6566c5",
   "metadata": {},
   "outputs": [
    {
     "data": {
      "text/html": [
       "<div>\n",
       "<style scoped>\n",
       "    .dataframe tbody tr th:only-of-type {\n",
       "        vertical-align: middle;\n",
       "    }\n",
       "\n",
       "    .dataframe tbody tr th {\n",
       "        vertical-align: top;\n",
       "    }\n",
       "\n",
       "    .dataframe thead th {\n",
       "        text-align: right;\n",
       "    }\n",
       "</style>\n",
       "<table border=\"1\" class=\"dataframe\">\n",
       "  <thead>\n",
       "    <tr style=\"text-align: right;\">\n",
       "      <th></th>\n",
       "      <th>budget</th>\n",
       "      <th>language</th>\n",
       "      <th>popularity</th>\n",
       "      <th>runtime</th>\n",
       "      <th>status</th>\n",
       "      <th>revenue</th>\n",
       "      <th>release_year</th>\n",
       "      <th>release_day_of_the_week</th>\n",
       "    </tr>\n",
       "  </thead>\n",
       "  <tbody>\n",
       "    <tr>\n",
       "      <th>0</th>\n",
       "      <td>14000000.00</td>\n",
       "      <td>en</td>\n",
       "      <td>2.233967</td>\n",
       "      <td>93.0</td>\n",
       "      <td>Released</td>\n",
       "      <td>12314651</td>\n",
       "      <td>2015</td>\n",
       "      <td>Friday</td>\n",
       "    </tr>\n",
       "    <tr>\n",
       "      <th>1</th>\n",
       "      <td>40000000.00</td>\n",
       "      <td>en</td>\n",
       "      <td>2.802533</td>\n",
       "      <td>113.0</td>\n",
       "      <td>Released</td>\n",
       "      <td>95149435</td>\n",
       "      <td>2004</td>\n",
       "      <td>Friday</td>\n",
       "    </tr>\n",
       "    <tr>\n",
       "      <th>2</th>\n",
       "      <td>3300000.00</td>\n",
       "      <td>en</td>\n",
       "      <td>21.845701</td>\n",
       "      <td>105.0</td>\n",
       "      <td>Released</td>\n",
       "      <td>13092000</td>\n",
       "      <td>2014</td>\n",
       "      <td>Friday</td>\n",
       "    </tr>\n",
       "    <tr>\n",
       "      <th>3</th>\n",
       "      <td>1200000.00</td>\n",
       "      <td>hi</td>\n",
       "      <td>1.078673</td>\n",
       "      <td>122.0</td>\n",
       "      <td>Released</td>\n",
       "      <td>16000000</td>\n",
       "      <td>2012</td>\n",
       "      <td>Friday</td>\n",
       "    </tr>\n",
       "    <tr>\n",
       "      <th>4</th>\n",
       "      <td>22531334.11</td>\n",
       "      <td>ko</td>\n",
       "      <td>0.390053</td>\n",
       "      <td>118.0</td>\n",
       "      <td>Released</td>\n",
       "      <td>3923970</td>\n",
       "      <td>2009</td>\n",
       "      <td>Thursday</td>\n",
       "    </tr>\n",
       "  </tbody>\n",
       "</table>\n",
       "</div>"
      ],
      "text/plain": [
       "        budget language  popularity  runtime    status   revenue  \\\n",
       "0  14000000.00       en    2.233967     93.0  Released  12314651   \n",
       "1  40000000.00       en    2.802533    113.0  Released  95149435   \n",
       "2   3300000.00       en   21.845701    105.0  Released  13092000   \n",
       "3   1200000.00       hi    1.078673    122.0  Released  16000000   \n",
       "4  22531334.11       ko    0.390053    118.0  Released   3923970   \n",
       "\n",
       "   release_year release_day_of_the_week  \n",
       "0          2015                  Friday  \n",
       "1          2004                  Friday  \n",
       "2          2014                  Friday  \n",
       "3          2012                  Friday  \n",
       "4          2009                Thursday  "
      ]
     },
     "execution_count": 381,
     "metadata": {},
     "output_type": "execute_result"
    }
   ],
   "source": [
    "df_temp.head()"
   ]
  },
  {
   "cell_type": "code",
   "execution_count": 382,
   "id": "ce018c5e",
   "metadata": {},
   "outputs": [
    {
     "data": {
      "text/plain": [
       "1519557910"
      ]
     },
     "execution_count": 382,
     "metadata": {},
     "output_type": "execute_result"
    }
   ],
   "source": [
    "max(df[\"revenue\"])"
   ]
  },
  {
   "cell_type": "code",
   "execution_count": 383,
   "id": "cc4e14eb",
   "metadata": {},
   "outputs": [],
   "source": [
    "df_temp[\"revenue\"] = df_temp[\"revenue\"]/1000000000"
   ]
  },
  {
   "cell_type": "code",
   "execution_count": 384,
   "id": "6230786f",
   "metadata": {},
   "outputs": [
    {
     "data": {
      "text/plain": [
       "count     2400\n",
       "unique      35\n",
       "top         en\n",
       "freq      2050\n",
       "Name: language, dtype: object"
      ]
     },
     "execution_count": 384,
     "metadata": {},
     "output_type": "execute_result"
    }
   ],
   "source": [
    "df_temp[\"language\"].describe()"
   ]
  },
  {
   "cell_type": "markdown",
   "id": "9fe308ba",
   "metadata": {},
   "source": [
    "### Label Encoding"
   ]
  },
  {
   "cell_type": "code",
   "execution_count": 385,
   "id": "de6da109",
   "metadata": {},
   "outputs": [],
   "source": [
    "from sklearn import preprocessing\n",
    "le = preprocessing.LabelEncoder()\n",
    "df_temp[\"language\"] = le.fit_transform(df_temp[\"language\"])\n",
    "df_test[\"language\"] = le.fit_transform(df_test[\"language\"])"
   ]
  },
  {
   "cell_type": "code",
   "execution_count": 386,
   "id": "392707be",
   "metadata": {},
   "outputs": [],
   "source": [
    "# mean_encode = df.groupby('language')['revenue'].mean()\n",
    "# print(mean_encode)\n",
    "# df_temp['language'] = df_temp['language'].map(mean_encode)"
   ]
  },
  {
   "cell_type": "code",
   "execution_count": 387,
   "id": "ba30b424",
   "metadata": {},
   "outputs": [
    {
     "data": {
      "text/html": [
       "<div>\n",
       "<style scoped>\n",
       "    .dataframe tbody tr th:only-of-type {\n",
       "        vertical-align: middle;\n",
       "    }\n",
       "\n",
       "    .dataframe tbody tr th {\n",
       "        vertical-align: top;\n",
       "    }\n",
       "\n",
       "    .dataframe thead th {\n",
       "        text-align: right;\n",
       "    }\n",
       "</style>\n",
       "<table border=\"1\" class=\"dataframe\">\n",
       "  <thead>\n",
       "    <tr style=\"text-align: right;\">\n",
       "      <th></th>\n",
       "      <th>budget</th>\n",
       "      <th>language</th>\n",
       "      <th>popularity</th>\n",
       "      <th>runtime</th>\n",
       "      <th>status</th>\n",
       "      <th>revenue</th>\n",
       "      <th>release_year</th>\n",
       "      <th>release_day_of_the_week</th>\n",
       "    </tr>\n",
       "  </thead>\n",
       "  <tbody>\n",
       "    <tr>\n",
       "      <th>0</th>\n",
       "      <td>14000000.00</td>\n",
       "      <td>7</td>\n",
       "      <td>2.233967</td>\n",
       "      <td>93.0</td>\n",
       "      <td>Released</td>\n",
       "      <td>0.012315</td>\n",
       "      <td>2015</td>\n",
       "      <td>Friday</td>\n",
       "    </tr>\n",
       "    <tr>\n",
       "      <th>1</th>\n",
       "      <td>40000000.00</td>\n",
       "      <td>7</td>\n",
       "      <td>2.802533</td>\n",
       "      <td>113.0</td>\n",
       "      <td>Released</td>\n",
       "      <td>0.095149</td>\n",
       "      <td>2004</td>\n",
       "      <td>Friday</td>\n",
       "    </tr>\n",
       "    <tr>\n",
       "      <th>2</th>\n",
       "      <td>3300000.00</td>\n",
       "      <td>7</td>\n",
       "      <td>21.845701</td>\n",
       "      <td>105.0</td>\n",
       "      <td>Released</td>\n",
       "      <td>0.013092</td>\n",
       "      <td>2014</td>\n",
       "      <td>Friday</td>\n",
       "    </tr>\n",
       "    <tr>\n",
       "      <th>3</th>\n",
       "      <td>1200000.00</td>\n",
       "      <td>13</td>\n",
       "      <td>1.078673</td>\n",
       "      <td>122.0</td>\n",
       "      <td>Released</td>\n",
       "      <td>0.016000</td>\n",
       "      <td>2012</td>\n",
       "      <td>Friday</td>\n",
       "    </tr>\n",
       "    <tr>\n",
       "      <th>4</th>\n",
       "      <td>22531334.11</td>\n",
       "      <td>17</td>\n",
       "      <td>0.390053</td>\n",
       "      <td>118.0</td>\n",
       "      <td>Released</td>\n",
       "      <td>0.003924</td>\n",
       "      <td>2009</td>\n",
       "      <td>Thursday</td>\n",
       "    </tr>\n",
       "  </tbody>\n",
       "</table>\n",
       "</div>"
      ],
      "text/plain": [
       "        budget  language  popularity  runtime    status   revenue  \\\n",
       "0  14000000.00         7    2.233967     93.0  Released  0.012315   \n",
       "1  40000000.00         7    2.802533    113.0  Released  0.095149   \n",
       "2   3300000.00         7   21.845701    105.0  Released  0.013092   \n",
       "3   1200000.00        13    1.078673    122.0  Released  0.016000   \n",
       "4  22531334.11        17    0.390053    118.0  Released  0.003924   \n",
       "\n",
       "   release_year release_day_of_the_week  \n",
       "0          2015                  Friday  \n",
       "1          2004                  Friday  \n",
       "2          2014                  Friday  \n",
       "3          2012                  Friday  \n",
       "4          2009                Thursday  "
      ]
     },
     "execution_count": 387,
     "metadata": {},
     "output_type": "execute_result"
    }
   ],
   "source": [
    "df_temp.head()"
   ]
  },
  {
   "cell_type": "code",
   "execution_count": 388,
   "id": "be1ff108",
   "metadata": {},
   "outputs": [
    {
     "data": {
      "text/html": [
       "<div>\n",
       "<style scoped>\n",
       "    .dataframe tbody tr th:only-of-type {\n",
       "        vertical-align: middle;\n",
       "    }\n",
       "\n",
       "    .dataframe tbody tr th {\n",
       "        vertical-align: top;\n",
       "    }\n",
       "\n",
       "    .dataframe thead th {\n",
       "        text-align: right;\n",
       "    }\n",
       "</style>\n",
       "<table border=\"1\" class=\"dataframe\">\n",
       "  <thead>\n",
       "    <tr style=\"text-align: right;\">\n",
       "      <th></th>\n",
       "      <th>budget</th>\n",
       "      <th>language</th>\n",
       "      <th>popularity</th>\n",
       "      <th>runtime</th>\n",
       "      <th>status</th>\n",
       "      <th>release_year</th>\n",
       "      <th>release_day_of_the_week</th>\n",
       "    </tr>\n",
       "  </thead>\n",
       "  <tbody>\n",
       "    <tr>\n",
       "      <th>0</th>\n",
       "      <td>22531334.11</td>\n",
       "      <td>2</td>\n",
       "      <td>3.368959</td>\n",
       "      <td>110.0</td>\n",
       "      <td>Released</td>\n",
       "      <td>2000</td>\n",
       "      <td>Tuesday</td>\n",
       "    </tr>\n",
       "    <tr>\n",
       "      <th>1</th>\n",
       "      <td>60000000.00</td>\n",
       "      <td>2</td>\n",
       "      <td>2.279772</td>\n",
       "      <td>109.0</td>\n",
       "      <td>Released</td>\n",
       "      <td>1994</td>\n",
       "      <td>Tuesday</td>\n",
       "    </tr>\n",
       "    <tr>\n",
       "      <th>2</th>\n",
       "      <td>60000000.00</td>\n",
       "      <td>2</td>\n",
       "      <td>3.661156</td>\n",
       "      <td>101.0</td>\n",
       "      <td>Released</td>\n",
       "      <td>2004</td>\n",
       "      <td>Friday</td>\n",
       "    </tr>\n",
       "    <tr>\n",
       "      <th>3</th>\n",
       "      <td>47000000.00</td>\n",
       "      <td>2</td>\n",
       "      <td>1.871012</td>\n",
       "      <td>125.0</td>\n",
       "      <td>Released</td>\n",
       "      <td>1990</td>\n",
       "      <td>Friday</td>\n",
       "    </tr>\n",
       "    <tr>\n",
       "      <th>4</th>\n",
       "      <td>37000000.00</td>\n",
       "      <td>2</td>\n",
       "      <td>4.444294</td>\n",
       "      <td>125.0</td>\n",
       "      <td>Released</td>\n",
       "      <td>2010</td>\n",
       "      <td>Wednesday</td>\n",
       "    </tr>\n",
       "  </tbody>\n",
       "</table>\n",
       "</div>"
      ],
      "text/plain": [
       "        budget  language  popularity  runtime    status  release_year  \\\n",
       "0  22531334.11         2    3.368959    110.0  Released          2000   \n",
       "1  60000000.00         2    2.279772    109.0  Released          1994   \n",
       "2  60000000.00         2    3.661156    101.0  Released          2004   \n",
       "3  47000000.00         2    1.871012    125.0  Released          1990   \n",
       "4  37000000.00         2    4.444294    125.0  Released          2010   \n",
       "\n",
       "  release_day_of_the_week  \n",
       "0                 Tuesday  \n",
       "1                 Tuesday  \n",
       "2                  Friday  \n",
       "3                  Friday  \n",
       "4               Wednesday  "
      ]
     },
     "execution_count": 388,
     "metadata": {},
     "output_type": "execute_result"
    }
   ],
   "source": [
    "df_test.head()"
   ]
  },
  {
   "cell_type": "code",
   "execution_count": 389,
   "id": "bee61261",
   "metadata": {},
   "outputs": [
    {
     "data": {
      "text/plain": [
       "count         2400\n",
       "unique           2\n",
       "top       Released\n",
       "freq          2396\n",
       "Name: status, dtype: object"
      ]
     },
     "execution_count": 389,
     "metadata": {},
     "output_type": "execute_result"
    }
   ],
   "source": [
    "df_temp[\"status\"].describe()"
   ]
  },
  {
   "cell_type": "code",
   "execution_count": 390,
   "id": "c8d8cc27",
   "metadata": {},
   "outputs": [
    {
     "name": "stderr",
     "output_type": "stream",
     "text": [
      "/Library/Frameworks/Python.framework/Versions/3.7/lib/python3.7/site-packages/ipykernel_launcher.py:3: SettingWithCopyWarning: \n",
      "A value is trying to be set on a copy of a slice from a DataFrame\n",
      "\n",
      "See the caveats in the documentation: https://pandas.pydata.org/pandas-docs/stable/user_guide/indexing.html#returning-a-view-versus-a-copy\n",
      "  This is separate from the ipykernel package so we can avoid doing imports until\n",
      "/Library/Frameworks/Python.framework/Versions/3.7/lib/python3.7/site-packages/ipykernel_launcher.py:5: SettingWithCopyWarning: \n",
      "A value is trying to be set on a copy of a slice from a DataFrame\n",
      "\n",
      "See the caveats in the documentation: https://pandas.pydata.org/pandas-docs/stable/user_guide/indexing.html#returning-a-view-versus-a-copy\n",
      "  \"\"\"\n",
      "/Library/Frameworks/Python.framework/Versions/3.7/lib/python3.7/site-packages/ipykernel_launcher.py:9: SettingWithCopyWarning: \n",
      "A value is trying to be set on a copy of a slice from a DataFrame\n",
      "\n",
      "See the caveats in the documentation: https://pandas.pydata.org/pandas-docs/stable/user_guide/indexing.html#returning-a-view-versus-a-copy\n",
      "  if __name__ == '__main__':\n"
     ]
    }
   ],
   "source": [
    "for i in range(len(df_temp[\"status\"])):\n",
    "    if df_temp[\"status\"][i] == \"Released\":\n",
    "        df_temp[\"status\"][i] = 1\n",
    "    else:\n",
    "        df_temp[\"status\"][i] = 0\n",
    "        \n",
    "for i in range(len(df_test[\"status\"])):\n",
    "    if df_test[\"status\"][i] == \"Released\":\n",
    "        df_test[\"status\"][i] = 1\n",
    "    else:\n",
    "        df_test[\"status\"][i] = 0"
   ]
  },
  {
   "cell_type": "code",
   "execution_count": 391,
   "id": "9cd0bb89",
   "metadata": {},
   "outputs": [
    {
     "data": {
      "text/html": [
       "<div>\n",
       "<style scoped>\n",
       "    .dataframe tbody tr th:only-of-type {\n",
       "        vertical-align: middle;\n",
       "    }\n",
       "\n",
       "    .dataframe tbody tr th {\n",
       "        vertical-align: top;\n",
       "    }\n",
       "\n",
       "    .dataframe thead th {\n",
       "        text-align: right;\n",
       "    }\n",
       "</style>\n",
       "<table border=\"1\" class=\"dataframe\">\n",
       "  <thead>\n",
       "    <tr style=\"text-align: right;\">\n",
       "      <th></th>\n",
       "      <th>budget</th>\n",
       "      <th>language</th>\n",
       "      <th>popularity</th>\n",
       "      <th>runtime</th>\n",
       "      <th>status</th>\n",
       "      <th>revenue</th>\n",
       "      <th>release_year</th>\n",
       "      <th>release_day_of_the_week</th>\n",
       "    </tr>\n",
       "  </thead>\n",
       "  <tbody>\n",
       "    <tr>\n",
       "      <th>0</th>\n",
       "      <td>14000000.00</td>\n",
       "      <td>7</td>\n",
       "      <td>2.233967</td>\n",
       "      <td>93.0</td>\n",
       "      <td>1</td>\n",
       "      <td>0.012315</td>\n",
       "      <td>2015</td>\n",
       "      <td>Friday</td>\n",
       "    </tr>\n",
       "    <tr>\n",
       "      <th>1</th>\n",
       "      <td>40000000.00</td>\n",
       "      <td>7</td>\n",
       "      <td>2.802533</td>\n",
       "      <td>113.0</td>\n",
       "      <td>1</td>\n",
       "      <td>0.095149</td>\n",
       "      <td>2004</td>\n",
       "      <td>Friday</td>\n",
       "    </tr>\n",
       "    <tr>\n",
       "      <th>2</th>\n",
       "      <td>3300000.00</td>\n",
       "      <td>7</td>\n",
       "      <td>21.845701</td>\n",
       "      <td>105.0</td>\n",
       "      <td>1</td>\n",
       "      <td>0.013092</td>\n",
       "      <td>2014</td>\n",
       "      <td>Friday</td>\n",
       "    </tr>\n",
       "    <tr>\n",
       "      <th>3</th>\n",
       "      <td>1200000.00</td>\n",
       "      <td>13</td>\n",
       "      <td>1.078673</td>\n",
       "      <td>122.0</td>\n",
       "      <td>1</td>\n",
       "      <td>0.016000</td>\n",
       "      <td>2012</td>\n",
       "      <td>Friday</td>\n",
       "    </tr>\n",
       "    <tr>\n",
       "      <th>4</th>\n",
       "      <td>22531334.11</td>\n",
       "      <td>17</td>\n",
       "      <td>0.390053</td>\n",
       "      <td>118.0</td>\n",
       "      <td>1</td>\n",
       "      <td>0.003924</td>\n",
       "      <td>2009</td>\n",
       "      <td>Thursday</td>\n",
       "    </tr>\n",
       "  </tbody>\n",
       "</table>\n",
       "</div>"
      ],
      "text/plain": [
       "        budget  language  popularity  runtime status   revenue  release_year  \\\n",
       "0  14000000.00         7    2.233967     93.0      1  0.012315          2015   \n",
       "1  40000000.00         7    2.802533    113.0      1  0.095149          2004   \n",
       "2   3300000.00         7   21.845701    105.0      1  0.013092          2014   \n",
       "3   1200000.00        13    1.078673    122.0      1  0.016000          2012   \n",
       "4  22531334.11        17    0.390053    118.0      1  0.003924          2009   \n",
       "\n",
       "  release_day_of_the_week  \n",
       "0                  Friday  \n",
       "1                  Friday  \n",
       "2                  Friday  \n",
       "3                  Friday  \n",
       "4                Thursday  "
      ]
     },
     "execution_count": 391,
     "metadata": {},
     "output_type": "execute_result"
    }
   ],
   "source": [
    "df_temp.head()"
   ]
  },
  {
   "cell_type": "code",
   "execution_count": 392,
   "id": "5d6d7d01",
   "metadata": {},
   "outputs": [
    {
     "data": {
      "text/html": [
       "<div>\n",
       "<style scoped>\n",
       "    .dataframe tbody tr th:only-of-type {\n",
       "        vertical-align: middle;\n",
       "    }\n",
       "\n",
       "    .dataframe tbody tr th {\n",
       "        vertical-align: top;\n",
       "    }\n",
       "\n",
       "    .dataframe thead th {\n",
       "        text-align: right;\n",
       "    }\n",
       "</style>\n",
       "<table border=\"1\" class=\"dataframe\">\n",
       "  <thead>\n",
       "    <tr style=\"text-align: right;\">\n",
       "      <th></th>\n",
       "      <th>budget</th>\n",
       "      <th>language</th>\n",
       "      <th>popularity</th>\n",
       "      <th>runtime</th>\n",
       "      <th>status</th>\n",
       "      <th>release_year</th>\n",
       "      <th>release_day_of_the_week</th>\n",
       "    </tr>\n",
       "  </thead>\n",
       "  <tbody>\n",
       "    <tr>\n",
       "      <th>0</th>\n",
       "      <td>22531334.11</td>\n",
       "      <td>2</td>\n",
       "      <td>3.368959</td>\n",
       "      <td>110.0</td>\n",
       "      <td>1</td>\n",
       "      <td>2000</td>\n",
       "      <td>Tuesday</td>\n",
       "    </tr>\n",
       "    <tr>\n",
       "      <th>1</th>\n",
       "      <td>60000000.00</td>\n",
       "      <td>2</td>\n",
       "      <td>2.279772</td>\n",
       "      <td>109.0</td>\n",
       "      <td>1</td>\n",
       "      <td>1994</td>\n",
       "      <td>Tuesday</td>\n",
       "    </tr>\n",
       "    <tr>\n",
       "      <th>2</th>\n",
       "      <td>60000000.00</td>\n",
       "      <td>2</td>\n",
       "      <td>3.661156</td>\n",
       "      <td>101.0</td>\n",
       "      <td>1</td>\n",
       "      <td>2004</td>\n",
       "      <td>Friday</td>\n",
       "    </tr>\n",
       "    <tr>\n",
       "      <th>3</th>\n",
       "      <td>47000000.00</td>\n",
       "      <td>2</td>\n",
       "      <td>1.871012</td>\n",
       "      <td>125.0</td>\n",
       "      <td>1</td>\n",
       "      <td>1990</td>\n",
       "      <td>Friday</td>\n",
       "    </tr>\n",
       "    <tr>\n",
       "      <th>4</th>\n",
       "      <td>37000000.00</td>\n",
       "      <td>2</td>\n",
       "      <td>4.444294</td>\n",
       "      <td>125.0</td>\n",
       "      <td>1</td>\n",
       "      <td>2010</td>\n",
       "      <td>Wednesday</td>\n",
       "    </tr>\n",
       "  </tbody>\n",
       "</table>\n",
       "</div>"
      ],
      "text/plain": [
       "        budget  language  popularity  runtime status  release_year  \\\n",
       "0  22531334.11         2    3.368959    110.0      1          2000   \n",
       "1  60000000.00         2    2.279772    109.0      1          1994   \n",
       "2  60000000.00         2    3.661156    101.0      1          2004   \n",
       "3  47000000.00         2    1.871012    125.0      1          1990   \n",
       "4  37000000.00         2    4.444294    125.0      1          2010   \n",
       "\n",
       "  release_day_of_the_week  \n",
       "0                 Tuesday  \n",
       "1                 Tuesday  \n",
       "2                  Friday  \n",
       "3                  Friday  \n",
       "4               Wednesday  "
      ]
     },
     "execution_count": 392,
     "metadata": {},
     "output_type": "execute_result"
    }
   ],
   "source": [
    "df_test.head()"
   ]
  },
  {
   "cell_type": "code",
   "execution_count": 393,
   "id": "06b21483",
   "metadata": {},
   "outputs": [
    {
     "data": {
      "text/plain": [
       "count       2400\n",
       "unique         7\n",
       "top       Friday\n",
       "freq        1055\n",
       "Name: release_day_of_the_week, dtype: object"
      ]
     },
     "execution_count": 393,
     "metadata": {},
     "output_type": "execute_result"
    }
   ],
   "source": [
    "df_temp[\"release_day_of_the_week\"].describe()"
   ]
  },
  {
   "cell_type": "code",
   "execution_count": 394,
   "id": "2bf16a74",
   "metadata": {},
   "outputs": [],
   "source": [
    "for i in range(len(df_temp[\"release_day_of_the_week\"])):\n",
    "    if df_temp[\"release_day_of_the_week\"][i] == \"Sunday\":\n",
    "        df_temp[\"release_day_of_the_week\"][i] = 1\n",
    "    elif df_temp[\"release_day_of_the_week\"][i] == \"Monday\":\n",
    "        df_temp[\"release_day_of_the_week\"] = 2\n",
    "    elif df_temp[\"release_day_of_the_week\"][i] == \"Tuesday\":\n",
    "        df_temp[\"release_day_of_the_week\"] = 3\n",
    "    elif df_temp[\"release_day_of_the_week\"][i] == \"Wednesday\":\n",
    "        df_temp[\"release_day_of_the_week\"] = 4\n",
    "    elif df_temp[\"release_day_of_the_week\"][i] == \"Thursday\":\n",
    "        df_temp[\"release_day_of_the_week\"] = 5\n",
    "    elif df_temp[\"release_day_of_the_week\"][i] == \"Friday\":\n",
    "        df_temp[\"release_day_of_the_week\"] = 6\n",
    "    elif df_temp[\"release_day_of_the_week\"][i] == \"Saturday\":\n",
    "        df_temp[\"release_day_of_the_week\"] = 7\n",
    "\n",
    "\n",
    "for i in range(len(df_test[\"release_day_of_the_week\"])):\n",
    "    if df_test[\"release_day_of_the_week\"][i] == \"Sunday\":\n",
    "        df_test[\"release_day_of_the_week\"][i] = 1\n",
    "    elif df_test[\"release_day_of_the_week\"][i] == \"Monday\":\n",
    "        df_test[\"release_day_of_the_week\"] = 2\n",
    "    elif df_test[\"release_day_of_the_week\"][i] == \"Tuesday\":\n",
    "        df_test[\"release_day_of_the_week\"] = 3\n",
    "    elif df_test[\"release_day_of_the_week\"][i] == \"Wednesday\":\n",
    "        df_test[\"release_day_of_the_week\"] = 4\n",
    "    elif df_test[\"release_day_of_the_week\"][i] == \"Thursday\":\n",
    "        df_test[\"release_day_of_the_week\"] = 5\n",
    "    elif df_test[\"release_day_of_the_week\"][i] == \"Friday\":\n",
    "        df_test[\"release_day_of_the_week\"] = 6\n",
    "    elif df_test[\"release_day_of_the_week\"][i] == \"Saturday\":\n",
    "        df_test[\"release_day_of_the_week\"] = 7"
   ]
  },
  {
   "cell_type": "markdown",
   "id": "3ca7ce47",
   "metadata": {},
   "source": [
    "## Feature Scaling"
   ]
  },
  {
   "cell_type": "code",
   "execution_count": 395,
   "id": "36f7928e",
   "metadata": {},
   "outputs": [],
   "source": [
    "df_temp[\"budget\"] = df_temp[\"budget\"]/max(df_temp[\"budget\"])\n",
    "df_test[\"budget\"] = df_test[\"budget\"]/max(df_test[\"budget\"])"
   ]
  },
  {
   "cell_type": "code",
   "execution_count": 396,
   "id": "312d25e3",
   "metadata": {},
   "outputs": [],
   "source": [
    "df_temp[\"language\"] = df_temp[\"language\"]/max(df_temp[\"language\"])\n",
    "df_test[\"language\"] = df_test[\"language\"]/max(df_test[\"language\"])"
   ]
  },
  {
   "cell_type": "code",
   "execution_count": 397,
   "id": "ab326bc3",
   "metadata": {},
   "outputs": [
    {
     "data": {
      "text/html": [
       "<div>\n",
       "<style scoped>\n",
       "    .dataframe tbody tr th:only-of-type {\n",
       "        vertical-align: middle;\n",
       "    }\n",
       "\n",
       "    .dataframe tbody tr th {\n",
       "        vertical-align: top;\n",
       "    }\n",
       "\n",
       "    .dataframe thead th {\n",
       "        text-align: right;\n",
       "    }\n",
       "</style>\n",
       "<table border=\"1\" class=\"dataframe\">\n",
       "  <thead>\n",
       "    <tr style=\"text-align: right;\">\n",
       "      <th></th>\n",
       "      <th>budget</th>\n",
       "      <th>language</th>\n",
       "      <th>popularity</th>\n",
       "      <th>runtime</th>\n",
       "      <th>status</th>\n",
       "      <th>revenue</th>\n",
       "      <th>release_year</th>\n",
       "      <th>release_day_of_the_week</th>\n",
       "    </tr>\n",
       "  </thead>\n",
       "  <tbody>\n",
       "    <tr>\n",
       "      <th>0</th>\n",
       "      <td>0.036842</td>\n",
       "      <td>0.205882</td>\n",
       "      <td>2.233967</td>\n",
       "      <td>93.0</td>\n",
       "      <td>1</td>\n",
       "      <td>0.012315</td>\n",
       "      <td>2015</td>\n",
       "      <td>6</td>\n",
       "    </tr>\n",
       "    <tr>\n",
       "      <th>1</th>\n",
       "      <td>0.105263</td>\n",
       "      <td>0.205882</td>\n",
       "      <td>2.802533</td>\n",
       "      <td>113.0</td>\n",
       "      <td>1</td>\n",
       "      <td>0.095149</td>\n",
       "      <td>2004</td>\n",
       "      <td>6</td>\n",
       "    </tr>\n",
       "    <tr>\n",
       "      <th>2</th>\n",
       "      <td>0.008684</td>\n",
       "      <td>0.205882</td>\n",
       "      <td>21.845701</td>\n",
       "      <td>105.0</td>\n",
       "      <td>1</td>\n",
       "      <td>0.013092</td>\n",
       "      <td>2014</td>\n",
       "      <td>6</td>\n",
       "    </tr>\n",
       "    <tr>\n",
       "      <th>3</th>\n",
       "      <td>0.003158</td>\n",
       "      <td>0.382353</td>\n",
       "      <td>1.078673</td>\n",
       "      <td>122.0</td>\n",
       "      <td>1</td>\n",
       "      <td>0.016000</td>\n",
       "      <td>2012</td>\n",
       "      <td>6</td>\n",
       "    </tr>\n",
       "    <tr>\n",
       "      <th>4</th>\n",
       "      <td>0.059293</td>\n",
       "      <td>0.500000</td>\n",
       "      <td>0.390053</td>\n",
       "      <td>118.0</td>\n",
       "      <td>1</td>\n",
       "      <td>0.003924</td>\n",
       "      <td>2009</td>\n",
       "      <td>6</td>\n",
       "    </tr>\n",
       "  </tbody>\n",
       "</table>\n",
       "</div>"
      ],
      "text/plain": [
       "     budget  language  popularity  runtime status   revenue  release_year  \\\n",
       "0  0.036842  0.205882    2.233967     93.0      1  0.012315          2015   \n",
       "1  0.105263  0.205882    2.802533    113.0      1  0.095149          2004   \n",
       "2  0.008684  0.205882   21.845701    105.0      1  0.013092          2014   \n",
       "3  0.003158  0.382353    1.078673    122.0      1  0.016000          2012   \n",
       "4  0.059293  0.500000    0.390053    118.0      1  0.003924          2009   \n",
       "\n",
       "   release_day_of_the_week  \n",
       "0                        6  \n",
       "1                        6  \n",
       "2                        6  \n",
       "3                        6  \n",
       "4                        6  "
      ]
     },
     "execution_count": 397,
     "metadata": {},
     "output_type": "execute_result"
    }
   ],
   "source": [
    "df_temp.head()"
   ]
  },
  {
   "cell_type": "code",
   "execution_count": 398,
   "id": "8025a80a",
   "metadata": {},
   "outputs": [
    {
     "data": {
      "text/html": [
       "<div>\n",
       "<style scoped>\n",
       "    .dataframe tbody tr th:only-of-type {\n",
       "        vertical-align: middle;\n",
       "    }\n",
       "\n",
       "    .dataframe tbody tr th {\n",
       "        vertical-align: top;\n",
       "    }\n",
       "\n",
       "    .dataframe thead th {\n",
       "        text-align: right;\n",
       "    }\n",
       "</style>\n",
       "<table border=\"1\" class=\"dataframe\">\n",
       "  <thead>\n",
       "    <tr style=\"text-align: right;\">\n",
       "      <th></th>\n",
       "      <th>budget</th>\n",
       "      <th>language</th>\n",
       "      <th>popularity</th>\n",
       "      <th>runtime</th>\n",
       "      <th>status</th>\n",
       "      <th>release_year</th>\n",
       "      <th>release_day_of_the_week</th>\n",
       "    </tr>\n",
       "  </thead>\n",
       "  <tbody>\n",
       "    <tr>\n",
       "      <th>0</th>\n",
       "      <td>0.080469</td>\n",
       "      <td>0.1</td>\n",
       "      <td>3.368959</td>\n",
       "      <td>110.0</td>\n",
       "      <td>1</td>\n",
       "      <td>2000</td>\n",
       "      <td>3</td>\n",
       "    </tr>\n",
       "    <tr>\n",
       "      <th>1</th>\n",
       "      <td>0.214286</td>\n",
       "      <td>0.1</td>\n",
       "      <td>2.279772</td>\n",
       "      <td>109.0</td>\n",
       "      <td>1</td>\n",
       "      <td>1994</td>\n",
       "      <td>3</td>\n",
       "    </tr>\n",
       "    <tr>\n",
       "      <th>2</th>\n",
       "      <td>0.214286</td>\n",
       "      <td>0.1</td>\n",
       "      <td>3.661156</td>\n",
       "      <td>101.0</td>\n",
       "      <td>1</td>\n",
       "      <td>2004</td>\n",
       "      <td>3</td>\n",
       "    </tr>\n",
       "    <tr>\n",
       "      <th>3</th>\n",
       "      <td>0.167857</td>\n",
       "      <td>0.1</td>\n",
       "      <td>1.871012</td>\n",
       "      <td>125.0</td>\n",
       "      <td>1</td>\n",
       "      <td>1990</td>\n",
       "      <td>3</td>\n",
       "    </tr>\n",
       "    <tr>\n",
       "      <th>4</th>\n",
       "      <td>0.132143</td>\n",
       "      <td>0.1</td>\n",
       "      <td>4.444294</td>\n",
       "      <td>125.0</td>\n",
       "      <td>1</td>\n",
       "      <td>2010</td>\n",
       "      <td>3</td>\n",
       "    </tr>\n",
       "  </tbody>\n",
       "</table>\n",
       "</div>"
      ],
      "text/plain": [
       "     budget  language  popularity  runtime status  release_year  \\\n",
       "0  0.080469       0.1    3.368959    110.0      1          2000   \n",
       "1  0.214286       0.1    2.279772    109.0      1          1994   \n",
       "2  0.214286       0.1    3.661156    101.0      1          2004   \n",
       "3  0.167857       0.1    1.871012    125.0      1          1990   \n",
       "4  0.132143       0.1    4.444294    125.0      1          2010   \n",
       "\n",
       "   release_day_of_the_week  \n",
       "0                        3  \n",
       "1                        3  \n",
       "2                        3  \n",
       "3                        3  \n",
       "4                        3  "
      ]
     },
     "execution_count": 398,
     "metadata": {},
     "output_type": "execute_result"
    }
   ],
   "source": [
    "df_test.head()"
   ]
  },
  {
   "cell_type": "code",
   "execution_count": 399,
   "id": "57fcad8f",
   "metadata": {},
   "outputs": [
    {
     "data": {
      "text/plain": [
       "<AxesSubplot:>"
      ]
     },
     "execution_count": 399,
     "metadata": {},
     "output_type": "execute_result"
    },
    {
     "data": {
      "image/png": "[encoded data removed]",
      "text/plain": [
       "<Figure size 432x288 with 2 Axes>"
      ]
     },
     "metadata": {
      "needs_background": "light"
     },
     "output_type": "display_data"
    }
   ],
   "source": [
    "sns.heatmap(df_temp.corr(), cmap='Blues', annot=True)"
   ]
  },
  {
   "cell_type": "markdown",
   "id": "27087ff6",
   "metadata": {},
   "source": [
    "Budget and Popularity are highly correlated with Revenue of the Movie"
   ]
  },
  {
   "cell_type": "markdown",
   "id": "8506d93d",
   "metadata": {},
   "source": [
    "## Handling Skewed Data with Square Root Transform"
   ]
  },
  {
   "cell_type": "code",
   "execution_count": 400,
   "id": "08c6191c",
   "metadata": {},
   "outputs": [
    {
     "name": "stderr",
     "output_type": "stream",
     "text": [
      "/Library/Frameworks/Python.framework/Versions/3.7/lib/python3.7/site-packages/seaborn/distributions.py:2619: FutureWarning: `distplot` is a deprecated function and will be removed in a future version. Please adapt your code to use either `displot` (a figure-level function with similar flexibility) or `histplot` (an axes-level function for histograms).\n",
      "  warnings.warn(msg, FutureWarning)\n"
     ]
    },
    {
     "data": {
      "image/png": "[encoded data removed]",
      "text/plain": [
       "<Figure size 432x288 with 1 Axes>"
      ]
     },
     "metadata": {
      "needs_background": "light"
     },
     "output_type": "display_data"
    }
   ],
   "source": [
    "sns.distplot(df_temp['budget']);\n",
    "plt.show();"
   ]
  },
  {
   "cell_type": "code",
   "execution_count": 401,
   "id": "7ef85b38",
   "metadata": {},
   "outputs": [
    {
     "name": "stderr",
     "output_type": "stream",
     "text": [
      "/Library/Frameworks/Python.framework/Versions/3.7/lib/python3.7/site-packages/seaborn/distributions.py:2619: FutureWarning: `distplot` is a deprecated function and will be removed in a future version. Please adapt your code to use either `displot` (a figure-level function with similar flexibility) or `histplot` (an axes-level function for histograms).\n",
      "  warnings.warn(msg, FutureWarning)\n"
     ]
    },
    {
     "data": {
      "image/png": "[encoded data removed]",
      "text/plain": [
       "<Figure size 432x288 with 1 Axes>"
      ]
     },
     "metadata": {
      "needs_background": "light"
     },
     "output_type": "display_data"
    }
   ],
   "source": [
    "sns.distplot(df_test['budget']);\n",
    "plt.show();"
   ]
  },
  {
   "cell_type": "code",
   "execution_count": 402,
   "id": "3ca1c5d7",
   "metadata": {},
   "outputs": [
    {
     "data": {
      "text/plain": [
       "3.4042953031961596"
      ]
     },
     "execution_count": 402,
     "metadata": {},
     "output_type": "execute_result"
    }
   ],
   "source": [
    "df_temp['budget'].skew()"
   ]
  },
  {
   "cell_type": "code",
   "execution_count": 403,
   "id": "5f72a554",
   "metadata": {},
   "outputs": [
    {
     "data": {
      "text/plain": [
       "3.1155367961211033"
      ]
     },
     "execution_count": 403,
     "metadata": {},
     "output_type": "execute_result"
    }
   ],
   "source": [
    "df_test['budget'].skew()"
   ]
  },
  {
   "cell_type": "code",
   "execution_count": 404,
   "id": "a2e4a2c1",
   "metadata": {},
   "outputs": [
    {
     "name": "stderr",
     "output_type": "stream",
     "text": [
      "/Library/Frameworks/Python.framework/Versions/3.7/lib/python3.7/site-packages/seaborn/distributions.py:2619: FutureWarning: `distplot` is a deprecated function and will be removed in a future version. Please adapt your code to use either `displot` (a figure-level function with similar flexibility) or `histplot` (an axes-level function for histograms).\n",
      "  warnings.warn(msg, FutureWarning)\n"
     ]
    },
    {
     "data": {
      "image/png": "[encoded data removed]",
      "text/plain": [
       "<Figure size 432x288 with 1 Axes>"
      ]
     },
     "metadata": {
      "needs_background": "light"
     },
     "output_type": "display_data"
    },
    {
     "data": {
      "text/plain": [
       "1.218473153079477"
      ]
     },
     "execution_count": 404,
     "metadata": {},
     "output_type": "execute_result"
    }
   ],
   "source": [
    "sns.distplot(np.sqrt(df_temp['budget']));\n",
    "plt.show();\n",
    "np.sqrt(df_temp['budget']).skew()"
   ]
  },
  {
   "cell_type": "code",
   "execution_count": 405,
   "id": "dc715342",
   "metadata": {},
   "outputs": [
    {
     "name": "stderr",
     "output_type": "stream",
     "text": [
      "/Library/Frameworks/Python.framework/Versions/3.7/lib/python3.7/site-packages/seaborn/distributions.py:2619: FutureWarning: `distplot` is a deprecated function and will be removed in a future version. Please adapt your code to use either `displot` (a figure-level function with similar flexibility) or `histplot` (an axes-level function for histograms).\n",
      "  warnings.warn(msg, FutureWarning)\n"
     ]
    },
    {
     "data": {
      "image/png": "[encoded data removed]",
      "text/plain": [
       "<Figure size 432x288 with 1 Axes>"
      ]
     },
     "metadata": {
      "needs_background": "light"
     },
     "output_type": "display_data"
    },
    {
     "data": {
      "text/plain": [
       "0.9746960870750794"
      ]
     },
     "execution_count": 405,
     "metadata": {},
     "output_type": "execute_result"
    }
   ],
   "source": [
    "sns.distplot(np.sqrt(df_test['budget']));\n",
    "plt.show();\n",
    "np.sqrt(df_test['budget']).skew()"
   ]
  },
  {
   "cell_type": "code",
   "execution_count": 406,
   "id": "559f4eac",
   "metadata": {},
   "outputs": [],
   "source": [
    "df_temp['budget'] = np.sqrt(df_temp['budget'])\n",
    "df_test['budget'] = np.sqrt(df_test['budget'])"
   ]
  },
  {
   "cell_type": "code",
   "execution_count": 407,
   "id": "5580809e",
   "metadata": {},
   "outputs": [
    {
     "data": {
      "text/plain": [
       "3.763610382148879"
      ]
     },
     "execution_count": 407,
     "metadata": {},
     "output_type": "execute_result"
    }
   ],
   "source": [
    "df_temp['language'].skew()"
   ]
  },
  {
   "cell_type": "code",
   "execution_count": 408,
   "id": "b2af72de",
   "metadata": {},
   "outputs": [
    {
     "data": {
      "text/plain": [
       "3.949998268278243"
      ]
     },
     "execution_count": 408,
     "metadata": {},
     "output_type": "execute_result"
    }
   ],
   "source": [
    "df_test['language'].skew()"
   ]
  },
  {
   "cell_type": "code",
   "execution_count": 409,
   "id": "1e9a97c8",
   "metadata": {},
   "outputs": [
    {
     "data": {
      "text/plain": [
       "13.684011405488251"
      ]
     },
     "execution_count": 409,
     "metadata": {},
     "output_type": "execute_result"
    }
   ],
   "source": [
    "df_temp['popularity'].skew()"
   ]
  },
  {
   "cell_type": "code",
   "execution_count": 410,
   "id": "9416a2a1",
   "metadata": {},
   "outputs": [
    {
     "data": {
      "text/plain": [
       "1.7131145289038734"
      ]
     },
     "execution_count": 410,
     "metadata": {},
     "output_type": "execute_result"
    }
   ],
   "source": [
    "df_test['popularity'].skew()"
   ]
  },
  {
   "cell_type": "code",
   "execution_count": 411,
   "id": "bd5ee37a",
   "metadata": {
    "pycharm": {
     "is_executing": true,
     "name": "#%%\n"
    }
   },
   "outputs": [
    {
     "name": "stderr",
     "output_type": "stream",
     "text": [
      "/Library/Frameworks/Python.framework/Versions/3.7/lib/python3.7/site-packages/seaborn/distributions.py:2619: FutureWarning: `distplot` is a deprecated function and will be removed in a future version. Please adapt your code to use either `displot` (a figure-level function with similar flexibility) or `histplot` (an axes-level function for histograms).\n",
      "  warnings.warn(msg, FutureWarning)\n"
     ]
    },
    {
     "data": {
      "image/png": "[encoded data removed]",
      "text/plain": [
       "<Figure size 432x288 with 1 Axes>"
      ]
     },
     "metadata": {
      "needs_background": "light"
     },
     "output_type": "display_data"
    },
    {
     "data": {
      "text/plain": [
       "2.920286370836839"
      ]
     },
     "execution_count": 411,
     "metadata": {},
     "output_type": "execute_result"
    }
   ],
   "source": [
    "sns.distplot(np.sqrt(df_temp['popularity']));\n",
    "plt.show();\n",
    "np.sqrt(df_temp['popularity']).skew()"
   ]
  },
  {
   "cell_type": "code",
   "execution_count": 412,
   "id": "532e633e",
   "metadata": {},
   "outputs": [
    {
     "name": "stderr",
     "output_type": "stream",
     "text": [
      "/Library/Frameworks/Python.framework/Versions/3.7/lib/python3.7/site-packages/seaborn/distributions.py:2619: FutureWarning: `distplot` is a deprecated function and will be removed in a future version. Please adapt your code to use either `displot` (a figure-level function with similar flexibility) or `histplot` (an axes-level function for histograms).\n",
      "  warnings.warn(msg, FutureWarning)\n"
     ]
    },
    {
     "data": {
      "image/png": "[encoded data removed]",
      "text/plain": [
       "<Figure size 432x288 with 1 Axes>"
      ]
     },
     "metadata": {
      "needs_background": "light"
     },
     "output_type": "display_data"
    },
    {
     "data": {
      "text/plain": [
       "0.03927671058225473"
      ]
     },
     "execution_count": 412,
     "metadata": {},
     "output_type": "execute_result"
    }
   ],
   "source": [
    "sns.distplot(np.sqrt(df_test['popularity']));\n",
    "plt.show();\n",
    "np.sqrt(df_test['popularity']).skew()"
   ]
  },
  {
   "cell_type": "code",
   "execution_count": 413,
   "id": "bfec4a3f",
   "metadata": {},
   "outputs": [],
   "source": [
    "df_temp['popularity'] = np.sqrt(df_temp['popularity'])\n",
    "df_test['popularity'] = np.sqrt(df_test['popularity'])"
   ]
  },
  {
   "cell_type": "code",
   "execution_count": 414,
   "id": "490c6c6b",
   "metadata": {},
   "outputs": [
    {
     "data": {
      "text/plain": [
       "-0.8608396954019218"
      ]
     },
     "execution_count": 414,
     "metadata": {},
     "output_type": "execute_result"
    }
   ],
   "source": [
    "df_temp['release_year'].skew()"
   ]
  },
  {
   "cell_type": "code",
   "execution_count": 415,
   "id": "36a34ca2",
   "metadata": {},
   "outputs": [
    {
     "data": {
      "text/plain": [
       "-0.6794954202479067"
      ]
     },
     "execution_count": 415,
     "metadata": {},
     "output_type": "execute_result"
    }
   ],
   "source": [
    "df_test['release_year'].skew()"
   ]
  },
  {
   "cell_type": "code",
   "execution_count": 416,
   "id": "72ded88a",
   "metadata": {},
   "outputs": [
    {
     "name": "stderr",
     "output_type": "stream",
     "text": [
      "/Library/Frameworks/Python.framework/Versions/3.7/lib/python3.7/site-packages/seaborn/distributions.py:2619: FutureWarning: `distplot` is a deprecated function and will be removed in a future version. Please adapt your code to use either `displot` (a figure-level function with similar flexibility) or `histplot` (an axes-level function for histograms).\n",
      "  warnings.warn(msg, FutureWarning)\n"
     ]
    },
    {
     "data": {
      "image/png": "[encoded data removed]",
      "text/plain": [
       "<Figure size 432x288 with 1 Axes>"
      ]
     },
     "metadata": {
      "needs_background": "light"
     },
     "output_type": "display_data"
    },
    {
     "data": {
      "text/plain": [
       "-1.70256408173217"
      ]
     },
     "execution_count": 416,
     "metadata": {},
     "output_type": "execute_result"
    }
   ],
   "source": [
    "sns.distplot(np.sqrt(df_temp['runtime']));\n",
    "plt.show();\n",
    "np.sqrt(df_temp['runtime']).skew()"
   ]
  },
  {
   "cell_type": "code",
   "execution_count": 417,
   "id": "976ba022",
   "metadata": {
    "pycharm": {
     "is_executing": true,
     "name": "#%%\n"
    }
   },
   "outputs": [
    {
     "name": "stderr",
     "output_type": "stream",
     "text": [
      "/Library/Frameworks/Python.framework/Versions/3.7/lib/python3.7/site-packages/seaborn/distributions.py:2619: FutureWarning: `distplot` is a deprecated function and will be removed in a future version. Please adapt your code to use either `displot` (a figure-level function with similar flexibility) or `histplot` (an axes-level function for histograms).\n",
      "  warnings.warn(msg, FutureWarning)\n"
     ]
    },
    {
     "data": {
      "image/png": "[encoded data removed]",
      "text/plain": [
       "<Figure size 432x288 with 1 Axes>"
      ]
     },
     "metadata": {
      "needs_background": "light"
     },
     "output_type": "display_data"
    }
   ],
   "source": [
    "sns.distplot(df_temp[\"revenue\"]);"
   ]
  },
  {
   "cell_type": "code",
   "execution_count": 418,
   "id": "ffc7ae4f",
   "metadata": {
    "pycharm": {
     "is_executing": true,
     "name": "#%%\n"
    }
   },
   "outputs": [
    {
     "data": {
      "text/plain": [
       "4.484377675503804"
      ]
     },
     "execution_count": 418,
     "metadata": {},
     "output_type": "execute_result"
    }
   ],
   "source": [
    "# Skewness and Kurtosis\n",
    "df[\"revenue\"].skew()"
   ]
  },
  {
   "cell_type": "markdown",
   "id": "0d78c552",
   "metadata": {
    "pycharm": {
     "name": "#%% md\n"
    }
   },
   "source": [
    "## Model Building and Testing"
   ]
  },
  {
   "cell_type": "code",
   "execution_count": 419,
   "id": "fb556512",
   "metadata": {},
   "outputs": [],
   "source": [
    "y = df_temp[\"revenue\"]\n",
    "df_temp.drop(columns=[\"revenue\"], axis = 1, inplace = True)\n",
    "X = df_temp"
   ]
  },
  {
   "cell_type": "code",
   "execution_count": 420,
   "id": "dbdc6a0d",
   "metadata": {},
   "outputs": [
    {
     "data": {
      "text/plain": [
       "0       1.231465e-02\n",
       "1       9.514944e-02\n",
       "2       1.309200e-02\n",
       "3       1.600000e-02\n",
       "4       3.923970e-03\n",
       "            ...     \n",
       "2395    2.483920e-04\n",
       "2396    2.045940e-01\n",
       "2397    3.094927e-01\n",
       "2398    2.027581e-02\n",
       "2399    1.500000e-08\n",
       "Name: revenue, Length: 2400, dtype: float64"
      ]
     },
     "execution_count": 420,
     "metadata": {},
     "output_type": "execute_result"
    }
   ],
   "source": [
    "y"
   ]
  },
  {
   "cell_type": "code",
   "execution_count": 421,
   "id": "e3abb979",
   "metadata": {},
   "outputs": [],
   "source": [
    "from sklearn.model_selection import train_test_split\n",
    "X_train, X_test, y_train, y_test = train_test_split(X, y, test_size=0.2, random_state=42, shuffle=True)"
   ]
  },
  {
   "cell_type": "code",
   "execution_count": 422,
   "id": "ea7edd1a",
   "metadata": {},
   "outputs": [
    {
     "name": "stdout",
     "output_type": "stream",
     "text": [
      "0.06911608720849403\n",
      "0.008751302809965245\n"
     ]
    },
    {
     "data": {
      "text/plain": [
       "0.004777033511012154"
      ]
     },
     "execution_count": 422,
     "metadata": {},
     "output_type": "execute_result"
    }
   ],
   "source": [
    "from sklearn.ensemble import ExtraTreesRegressor\n",
    "reg = ExtraTreesRegressor(n_estimators=100, random_state=0).fit(X_train, y_train)\n",
    "y_prediction =  reg.predict(X_test)\n",
    "\n",
    "# Accuracy\n",
    "def rmsle(y,y0): \n",
    "    return np.sqrt(np.mean(np.square(np.log1p(y)-np.log1p(y0))))\n",
    "\n",
    "# root mean square log error\n",
    "rmsle = rmsle(y_prediction, y_test)\n",
    "print(rmsle)\n",
    "\n",
    "# Mean Square Error\n",
    "print(sum(y_prediction - y_test) / (0.2 * len(y_test)))\n",
    "\n",
    "from sklearn.metrics import mean_squared_log_error\n",
    "mean_squared_log_error(y_test, y_prediction)"
   ]
  },
  {
   "cell_type": "markdown",
   "id": "2c983081",
   "metadata": {},
   "source": [
    "## Model Training and Prediction"
   ]
  },
  {
   "cell_type": "code",
   "execution_count": 423,
   "id": "420086d0",
   "metadata": {},
   "outputs": [
    {
     "data": {
      "text/html": [
       "<div>\n",
       "<style scoped>\n",
       "    .dataframe tbody tr th:only-of-type {\n",
       "        vertical-align: middle;\n",
       "    }\n",
       "\n",
       "    .dataframe tbody tr th {\n",
       "        vertical-align: top;\n",
       "    }\n",
       "\n",
       "    .dataframe thead th {\n",
       "        text-align: right;\n",
       "    }\n",
       "</style>\n",
       "<table border=\"1\" class=\"dataframe\">\n",
       "  <thead>\n",
       "    <tr style=\"text-align: right;\">\n",
       "      <th></th>\n",
       "      <th>budget</th>\n",
       "      <th>language</th>\n",
       "      <th>popularity</th>\n",
       "      <th>runtime</th>\n",
       "      <th>status</th>\n",
       "      <th>release_year</th>\n",
       "      <th>release_day_of_the_week</th>\n",
       "    </tr>\n",
       "  </thead>\n",
       "  <tbody>\n",
       "    <tr>\n",
       "      <th>0</th>\n",
       "      <td>0.283671</td>\n",
       "      <td>0.1</td>\n",
       "      <td>1.835472</td>\n",
       "      <td>110.0</td>\n",
       "      <td>1</td>\n",
       "      <td>2000</td>\n",
       "      <td>3</td>\n",
       "    </tr>\n",
       "    <tr>\n",
       "      <th>1</th>\n",
       "      <td>0.462910</td>\n",
       "      <td>0.1</td>\n",
       "      <td>1.509891</td>\n",
       "      <td>109.0</td>\n",
       "      <td>1</td>\n",
       "      <td>1994</td>\n",
       "      <td>3</td>\n",
       "    </tr>\n",
       "    <tr>\n",
       "      <th>2</th>\n",
       "      <td>0.462910</td>\n",
       "      <td>0.1</td>\n",
       "      <td>1.913415</td>\n",
       "      <td>101.0</td>\n",
       "      <td>1</td>\n",
       "      <td>2004</td>\n",
       "      <td>3</td>\n",
       "    </tr>\n",
       "    <tr>\n",
       "      <th>3</th>\n",
       "      <td>0.409704</td>\n",
       "      <td>0.1</td>\n",
       "      <td>1.367849</td>\n",
       "      <td>125.0</td>\n",
       "      <td>1</td>\n",
       "      <td>1990</td>\n",
       "      <td>3</td>\n",
       "    </tr>\n",
       "    <tr>\n",
       "      <th>4</th>\n",
       "      <td>0.363515</td>\n",
       "      <td>0.1</td>\n",
       "      <td>2.108149</td>\n",
       "      <td>125.0</td>\n",
       "      <td>1</td>\n",
       "      <td>2010</td>\n",
       "      <td>3</td>\n",
       "    </tr>\n",
       "  </tbody>\n",
       "</table>\n",
       "</div>"
      ],
      "text/plain": [
       "     budget  language  popularity  runtime status  release_year  \\\n",
       "0  0.283671       0.1    1.835472    110.0      1          2000   \n",
       "1  0.462910       0.1    1.509891    109.0      1          1994   \n",
       "2  0.462910       0.1    1.913415    101.0      1          2004   \n",
       "3  0.409704       0.1    1.367849    125.0      1          1990   \n",
       "4  0.363515       0.1    2.108149    125.0      1          2010   \n",
       "\n",
       "   release_day_of_the_week  \n",
       "0                        3  \n",
       "1                        3  \n",
       "2                        3  \n",
       "3                        3  \n",
       "4                        3  "
      ]
     },
     "execution_count": 423,
     "metadata": {},
     "output_type": "execute_result"
    }
   ],
   "source": [
    "df_test.head()"
   ]
  },
  {
   "cell_type": "code",
   "execution_count": 424,
   "id": "5363a88b",
   "metadata": {},
   "outputs": [],
   "source": [
    "model = ExtraTreesRegressor(n_estimators=100, random_state=0).fit(X, y)\n",
    "y_pred = model.predict(df_test)"
   ]
  },
  {
   "cell_type": "code",
   "execution_count": 425,
   "id": "fa67755e",
   "metadata": {},
   "outputs": [],
   "source": [
    "y_pred = (y_pred*1000000000)"
   ]
  },
  {
   "cell_type": "code",
   "execution_count": 426,
   "id": "ad9b02c4",
   "metadata": {},
   "outputs": [
    {
     "data": {
      "text/plain": [
       "array([1.22463855e+08, 1.46908996e+08, 1.70808807e+08, 3.11540765e+08,\n",
       "       1.32508346e+08, 1.15147309e+07, 3.78360628e+07, 6.06901643e+07,\n",
       "       4.46207871e+07, 8.49417660e+07, 4.01952398e+07, 2.36631032e+08,\n",
       "       1.66734864e+08, 5.66572415e+06, 9.28561688e+07, 8.44350447e+07,\n",
       "       2.69000107e+07, 7.91463924e+07, 1.29938767e+08, 1.51296510e+08,\n",
       "       2.44606183e+07, 7.12427692e+07, 2.28267982e+07, 1.56268208e+06,\n",
       "       9.74382531e+07, 7.42843779e+07, 7.91103165e+07, 9.00130679e+07,\n",
       "       9.53116325e+07, 6.77748666e+07, 7.38463944e+06, 1.13403154e+08,\n",
       "       3.91277979e+07, 8.38089859e+07, 2.59382404e+07, 2.37293446e+07,\n",
       "       1.15498319e+07, 4.19349113e+08, 5.49255225e+07, 5.85053405e+07,\n",
       "       9.97935681e+07, 2.11321190e+07, 1.04552214e+08, 4.60680625e+08,\n",
       "       3.53480332e+07, 6.25236546e+07, 8.49704877e+06, 2.97996166e+07,\n",
       "       2.03362738e+08, 1.38265479e+08, 1.86122294e+07, 5.03377147e+07,\n",
       "       7.67979628e+07, 7.73777155e+07, 2.69898884e+08, 1.87390904e+08,\n",
       "       1.12304875e+07, 6.88743378e+07, 1.21517872e+08, 3.12460946e+08,\n",
       "       1.33671293e+08, 1.23769269e+07, 5.64406863e+07, 4.22869338e+07,\n",
       "       1.13665087e+08, 8.55074760e+07, 1.06121850e+08, 3.34759190e+07,\n",
       "       1.34249455e+08, 2.20786262e+08, 1.40702526e+07, 1.01486248e+08,\n",
       "       4.08689953e+08, 2.15234318e+07, 1.40032439e+08, 6.46010991e+08,\n",
       "       1.05433987e+08, 4.12270555e+07, 9.10280214e+07, 1.44009827e+08,\n",
       "       2.54256131e+07, 1.14324266e+08, 1.54380779e+08, 4.65490227e+07,\n",
       "       2.69325549e+07, 6.23691968e+08, 4.48184438e+08, 1.39589622e+07,\n",
       "       9.23611470e+07, 1.68098967e+08, 1.90447223e+07, 3.50493108e+06,\n",
       "       1.56650702e+07, 1.47330363e+07, 1.08776547e+08, 2.65053555e+07,\n",
       "       1.16024409e+08, 1.65441334e+08, 1.79860114e+07, 1.93323545e+08,\n",
       "       4.87951193e+07, 2.61194627e+07, 6.50895404e+07, 9.55476982e+07,\n",
       "       4.55921049e+07, 7.79431505e+07, 3.04645397e+07, 2.75527758e+07,\n",
       "       2.76327776e+07, 3.53015049e+07, 2.25110503e+06, 1.49376441e+08,\n",
       "       9.52952437e+07, 3.99416055e+07, 1.55788516e+08, 2.34418312e+07,\n",
       "       1.25636497e+08, 1.71591303e+08, 2.66053202e+08, 9.67776807e+06,\n",
       "       9.90850499e+07, 8.67717495e+07, 7.77484604e+07, 7.17852159e+06,\n",
       "       3.31290790e+07, 1.22909574e+08, 4.42050805e+07, 1.71041727e+07,\n",
       "       5.56941418e+07, 5.62445200e+07, 2.64123822e+08, 6.70896645e+07,\n",
       "       1.00177810e+09, 9.03691152e+06, 1.49215432e+08, 3.35749504e+08,\n",
       "       8.09608978e+07, 1.58540088e+08, 3.27380512e+07, 4.66142176e+07,\n",
       "       6.33782727e+06, 1.03437355e+08, 1.04017073e+07, 2.73167103e+07,\n",
       "       1.67028355e+08, 1.84493327e+08, 1.98093840e+07, 4.17848410e+08,\n",
       "       1.49619987e+08, 5.28866071e+07, 4.32564496e+07, 7.23527111e+07,\n",
       "       2.69322339e+08, 1.25263592e+07, 3.18812540e+07, 9.56968922e+07,\n",
       "       8.29234672e+07, 3.02816931e+07, 1.96205471e+08, 2.24302223e+07,\n",
       "       4.05138763e+07, 8.90564817e+07, 4.10542492e+08, 2.09156014e+07,\n",
       "       8.68839462e+07, 1.14176304e+08, 2.75012966e+07, 3.93798818e+06,\n",
       "       9.85569657e+07, 9.13671991e+07, 4.51305715e+08, 5.34011352e+07,\n",
       "       2.51945809e+08, 2.14366085e+07, 5.18959657e+07, 5.55009072e+06,\n",
       "       4.64073380e+06, 1.06863046e+08, 1.49886714e+07, 8.75423145e+07,\n",
       "       2.05010550e+07, 1.86899634e+07, 9.94644923e+07, 8.20392389e+07,\n",
       "       6.06226470e+07, 5.37279614e+07, 6.12444901e+07, 3.64009863e+07,\n",
       "       1.04817809e+07, 7.20017791e+07, 5.36584107e+07, 1.57501529e+08,\n",
       "       5.72890440e+07, 2.69223055e+07, 4.29236371e+07, 3.26053959e+07,\n",
       "       4.32950033e+06, 7.23309787e+07, 5.74899922e+07, 4.26689387e+08,\n",
       "       6.41957575e+07, 9.84419614e+07, 3.27912025e+07, 2.58451868e+08,\n",
       "       2.04727015e+07, 1.87154568e+07, 1.39009037e+08, 6.12595702e+06,\n",
       "       3.60900956e+07, 3.52904703e+07, 1.21164440e+07, 1.74984038e+08,\n",
       "       9.47068356e+07, 5.52495413e+07, 1.41709066e+08, 6.91655657e+07,\n",
       "       3.51467474e+07, 1.44725068e+08, 4.74108877e+07, 2.19623082e+07,\n",
       "       4.22579622e+07, 7.93675730e+07, 9.60963662e+07, 4.69801618e+08,\n",
       "       1.60672883e+08, 3.63697109e+07, 2.36230721e+08, 2.52474133e+07,\n",
       "       1.74516664e+07, 1.92893236e+08, 1.19469348e+07, 3.76490921e+08,\n",
       "       1.39407205e+08, 6.94365929e+07, 8.53988356e+07, 1.26474802e+07,\n",
       "       7.12015384e+07, 7.88231507e+07, 1.33015400e+08, 1.65379140e+08,\n",
       "       6.72204545e+07, 2.87481909e+07, 2.05187402e+08, 8.76486412e+07,\n",
       "       3.61998285e+08, 1.15909733e+08, 6.91865885e+07, 5.57691397e+08,\n",
       "       2.35436204e+08, 1.56570747e+07, 2.16471103e+07, 3.12472383e+07,\n",
       "       2.24033389e+07, 3.26730012e+07, 7.77454547e+07, 2.15581121e+07,\n",
       "       1.20099008e+08, 1.84774416e+07, 2.45936508e+07, 3.17464888e+07,\n",
       "       3.81137150e+07, 3.91319558e+07, 1.41216006e+06, 1.36044478e+08,\n",
       "       1.21452759e+08, 6.10418755e+07, 1.29595197e+08, 1.27943248e+08,\n",
       "       3.61612088e+07, 2.70982831e+08, 3.79915945e+07, 3.98698586e+07,\n",
       "       6.97131357e+07, 9.73552191e+07, 2.69766642e+07, 3.86105695e+07,\n",
       "       4.04018176e+07, 9.90254214e+07, 2.43143730e+07, 1.08667184e+08,\n",
       "       1.74177254e+06, 7.78201579e+06, 6.19501199e+06, 8.80273119e+07,\n",
       "       1.44448302e+08, 3.15452519e+07, 1.05384288e+08, 1.89702335e+07,\n",
       "       4.65896215e+07, 2.45900310e+08, 9.00981850e+07, 9.51981360e+07,\n",
       "       1.09096505e+08, 1.40095532e+07, 6.54668692e+07, 5.25371609e+06,\n",
       "       3.43915164e+07, 1.44143525e+07, 9.47070967e+06, 3.08827728e+07,\n",
       "       9.34933302e+07, 1.37143085e+07, 3.39574431e+07, 3.57957107e+07,\n",
       "       5.80576606e+06, 5.99334601e+07, 1.88440812e+08, 5.10073620e+06,\n",
       "       1.06144045e+08, 1.95569941e+08, 6.51298492e+07, 3.88897768e+07,\n",
       "       5.49101168e+07, 3.57961202e+08, 1.28791951e+07, 1.37530317e+08,\n",
       "       5.69839129e+07, 3.62858333e+07, 1.35279059e+08, 2.22059090e+08,\n",
       "       3.82369003e+07, 1.35197963e+07, 4.19198407e+07, 2.39154922e+07,\n",
       "       2.45075949e+07, 7.18939197e+07, 5.53474584e+07, 3.04190038e+07,\n",
       "       5.41035129e+07, 4.47784197e+08, 3.40083981e+07, 6.88547941e+07,\n",
       "       3.83802373e+06, 3.15526484e+07, 1.17195688e+08, 5.54296012e+06,\n",
       "       5.69768947e+07, 8.87863621e+08, 2.65864182e+08, 4.06055641e+08,\n",
       "       2.94682885e+08, 2.94910146e+07, 7.56407392e+07, 1.32079264e+08,\n",
       "       1.47355299e+08, 2.60156271e+07, 1.06057992e+08, 1.00158957e+08,\n",
       "       1.70195774e+08, 8.54844657e+07, 3.78394659e+07, 8.88739720e+07,\n",
       "       9.97717338e+07, 6.57151496e+07, 4.45330154e+07, 3.07735411e+07,\n",
       "       7.97732878e+07, 6.68486140e+07, 3.29995895e+06, 7.86804607e+07,\n",
       "       5.07022186e+07, 4.35759032e+06, 6.89601035e+07, 3.30599158e+07,\n",
       "       1.03409265e+07, 1.33821437e+08, 1.13785514e+08, 1.02645792e+08,\n",
       "       3.31693182e+06, 3.52996805e+07, 9.22858314e+08, 6.66752779e+07,\n",
       "       1.52448358e+08, 1.44940118e+08, 7.20544382e+07, 6.84772820e+07,\n",
       "       7.89955484e+07, 1.03071798e+08, 1.56731300e+08, 7.28472581e+07,\n",
       "       3.35640201e+07, 2.94623525e+05, 1.70379209e+08, 1.11457149e+08,\n",
       "       4.62066529e+07, 1.13824511e+08, 9.65911147e+06, 2.30847448e+08,\n",
       "       2.66149014e+07, 9.91804867e+07, 8.68858694e+07, 1.02111561e+07,\n",
       "       3.80798197e+08, 4.66936677e+08, 3.82224843e+07, 5.71243200e+06,\n",
       "       1.07319988e+07, 1.49071669e+07, 5.56390319e+07, 1.88954815e+08,\n",
       "       1.18988806e+08, 8.60524097e+07, 5.49766745e+08, 2.85878215e+07,\n",
       "       2.35973846e+07, 4.70826279e+07, 8.24879683e+07, 1.93620330e+07,\n",
       "       6.88518309e+07, 1.39590678e+08, 5.54841555e+07, 3.12105209e+07,\n",
       "       1.24649723e+07, 4.51604423e+07, 2.66580552e+07, 1.16955572e+08,\n",
       "       3.85586245e+07, 5.58674336e+07, 1.05088694e+08, 6.44434465e+07,\n",
       "       1.44584913e+06, 2.97268348e+07, 6.17248133e+07, 4.00270751e+07,\n",
       "       8.57239483e+07, 3.51932277e+07, 7.32155766e+06, 2.94011376e+07,\n",
       "       3.92071741e+07, 3.59925327e+07, 8.00502937e+07, 7.69434180e+06,\n",
       "       3.80349969e+07, 7.77792106e+07, 1.44971882e+08, 3.98473459e+07,\n",
       "       7.03158912e+06, 1.00297784e+07, 9.57699227e+07, 2.91232418e+08,\n",
       "       7.38425647e+07, 8.94979716e+07, 1.75330513e+07, 1.26977526e+08,\n",
       "       1.72376502e+08, 3.21097432e+07, 3.31405435e+08, 5.70448280e+07,\n",
       "       6.86880523e+07, 2.52766320e+07, 6.74689058e+07, 1.35092957e+08,\n",
       "       1.00637476e+08, 2.32630027e+07, 3.92199376e+07, 5.41162050e+06,\n",
       "       1.42340451e+08, 1.22290496e+07, 4.22251306e+08, 1.18305135e+07,\n",
       "       1.28967598e+08, 1.20583261e+08, 6.90650313e+06, 6.17878839e+07,\n",
       "       1.27912965e+07, 1.56004201e+07, 5.15764097e+08, 1.27985828e+07,\n",
       "       1.13861962e+07, 4.50240851e+07, 1.94051521e+08, 8.42709394e+07,\n",
       "       1.62434698e+07, 5.03987357e+06, 4.78324494e+07, 1.48111344e+07,\n",
       "       4.08752254e+07, 8.88590745e+07, 7.00905611e+07, 3.43082976e+07,\n",
       "       3.29082264e+08, 1.06527129e+08, 2.45929840e+07, 9.29644486e+07,\n",
       "       5.59048716e+07, 4.10545743e+07, 1.11567872e+08, 1.47610630e+08,\n",
       "       2.35042585e+07, 1.05300988e+08, 2.44368537e+08, 9.83523230e+07,\n",
       "       2.51222742e+07, 3.88312341e+07, 3.59370126e+07, 1.91324984e+08,\n",
       "       4.99198055e+07, 1.85138275e+08, 2.42659136e+08, 2.37734893e+08,\n",
       "       5.30814268e+06, 1.50317242e+08, 8.16853574e+07, 7.84481387e+07,\n",
       "       1.26758462e+08, 6.59706872e+06, 8.67272367e+07, 6.53471707e+07,\n",
       "       1.27395313e+08, 1.05426379e+08, 1.09855068e+07, 3.07049164e+08,\n",
       "       2.49885691e+07, 4.42656856e+07, 1.22717244e+08, 3.44104713e+08,\n",
       "       9.45758297e+07, 2.10590719e+08, 3.92973298e+07, 1.97748691e+07,\n",
       "       1.04186490e+08, 8.92787652e+07, 3.44036756e+07, 4.95706497e+07,\n",
       "       4.74392837e+07, 1.04495436e+07, 6.24871837e+07, 5.57415391e+08,\n",
       "       8.06870169e+07, 1.06707617e+08, 8.21542315e+07, 1.38090997e+08,\n",
       "       7.67628850e+07, 8.12517151e+07, 1.16513107e+08, 2.28851369e+08,\n",
       "       1.03776910e+08, 7.35385937e+07, 5.20345426e+08, 6.23026475e+07,\n",
       "       3.34763770e+07, 4.60544293e+07, 5.55239687e+07, 1.42461114e+08,\n",
       "       2.15910397e+08, 9.13117856e+06, 1.77117293e+06, 8.52492627e+07,\n",
       "       1.26468128e+08, 5.39458751e+06, 1.06067436e+08, 4.71532654e+07,\n",
       "       1.26850177e+08, 1.95308370e+07, 1.73338000e+08, 4.98848168e+07,\n",
       "       2.49228543e+07, 9.94533553e+07, 4.78127418e+06, 1.36341084e+07,\n",
       "       1.29414907e+07, 5.49974133e+07, 1.32170833e+08, 6.17033158e+07,\n",
       "       7.00155862e+06, 1.75675790e+08, 1.16164273e+08, 2.55567460e+07,\n",
       "       8.21512343e+07, 8.38009111e+07, 1.55137122e+08, 3.26059863e+07,\n",
       "       3.45031328e+07, 2.78591482e+07, 3.81252175e+07, 1.19796108e+08,\n",
       "       1.65326003e+07, 6.05371300e+07, 1.16120963e+08, 8.92766631e+07,\n",
       "       1.83501802e+06, 3.54231100e+07, 8.54328876e+06, 5.12636557e+07,\n",
       "       2.86355008e+08, 2.62967001e+07, 6.21642342e+07, 5.25575207e+07,\n",
       "       9.48075703e+07, 1.01930916e+08, 4.87355082e+07, 2.30492181e+07,\n",
       "       1.24962927e+07, 1.17396215e+08, 4.30737312e+07, 7.36479621e+07,\n",
       "       1.29412671e+08, 2.47496846e+08, 2.31539152e+08, 9.73746520e+07])"
      ]
     },
     "execution_count": 426,
     "metadata": {},
     "output_type": "execute_result"
    }
   ],
   "source": [
    "y_pred"
   ]
  },
  {
   "cell_type": "code",
   "execution_count": 428,
   "id": "c59a4e52",
   "metadata": {},
   "outputs": [],
   "source": [
    "submission = df_testcopy\n",
    "submission['predicted_revenue'] = y_pred\n",
    "submission['predicted_revenue'] = submission['predicted_revenue'].apply(np.int64)\n",
    "submission.to_csv('submission.csv', index = False)"
   ]
  },
  {
   "cell_type": "code",
   "execution_count": 429,
   "id": "c480f18b",
   "metadata": {},
   "outputs": [
    {
     "data": {
      "text/html": [
       "<div>\n",
       "<style scoped>\n",
       "    .dataframe tbody tr th:only-of-type {\n",
       "        vertical-align: middle;\n",
       "    }\n",
       "\n",
       "    .dataframe tbody tr th {\n",
       "        vertical-align: top;\n",
       "    }\n",
       "\n",
       "    .dataframe thead th {\n",
       "        text-align: right;\n",
       "    }\n",
       "</style>\n",
       "<table border=\"1\" class=\"dataframe\">\n",
       "  <thead>\n",
       "    <tr style=\"text-align: right;\">\n",
       "      <th></th>\n",
       "      <th>Unnamed: 0</th>\n",
       "      <th>id</th>\n",
       "      <th>belongs_to_collection</th>\n",
       "      <th>budget</th>\n",
       "      <th>genres</th>\n",
       "      <th>language</th>\n",
       "      <th>overview</th>\n",
       "      <th>popularity</th>\n",
       "      <th>production_companies</th>\n",
       "      <th>production_countries</th>\n",
       "      <th>...</th>\n",
       "      <th>status</th>\n",
       "      <th>tagline</th>\n",
       "      <th>title</th>\n",
       "      <th>Keywords</th>\n",
       "      <th>cast</th>\n",
       "      <th>crew</th>\n",
       "      <th>release_year</th>\n",
       "      <th>release_day_of_the_week</th>\n",
       "      <th>release_date</th>\n",
       "      <th>predicted_revenue</th>\n",
       "    </tr>\n",
       "  </thead>\n",
       "  <tbody>\n",
       "    <tr>\n",
       "      <th>0</th>\n",
       "      <td>2400</td>\n",
       "      <td>2401</td>\n",
       "      <td>NaN</td>\n",
       "      <td>22531334.11</td>\n",
       "      <td>[{'id': 35, 'name': 'Comedy'}, {'id': 10749, '...</td>\n",
       "      <td>en</td>\n",
       "      <td>A comedy that pays tribute to the science fict...</td>\n",
       "      <td>3.368959</td>\n",
       "      <td>[{'name': 'Independent Film Channel', 'id': 40...</td>\n",
       "      <td>[{'iso_3166_1': 'US', 'name': 'United States o...</td>\n",
       "      <td>...</td>\n",
       "      <td>Released</td>\n",
       "      <td>Sometimes the future is better than it used to...</td>\n",
       "      <td>Happy Accidents</td>\n",
       "      <td>[{'id': 10183, 'name': 'independent film'}]</td>\n",
       "      <td>[{'id': 7132, 'name': \"Vincent D'Onofrio\", 'ch...</td>\n",
       "      <td>[{'id': 37948, 'name': 'Brad Anderson', 'depar...</td>\n",
       "      <td>2000</td>\n",
       "      <td>Tuesday</td>\n",
       "      <td>2000-01-25</td>\n",
       "      <td>122463854</td>\n",
       "    </tr>\n",
       "    <tr>\n",
       "      <th>1</th>\n",
       "      <td>2401</td>\n",
       "      <td>2402</td>\n",
       "      <td>NaN</td>\n",
       "      <td>60000000.00</td>\n",
       "      <td>[{'id': 35, 'name': 'Comedy'}, {'id': 10751, '...</td>\n",
       "      <td>en</td>\n",
       "      <td>As part of a fertility research project, a mal...</td>\n",
       "      <td>2.279772</td>\n",
       "      <td>[{'name': 'Universal Pictures', 'id': 33}, {'n...</td>\n",
       "      <td>[{'iso_3166_1': 'US', 'name': 'United States o...</td>\n",
       "      <td>...</td>\n",
       "      <td>Released</td>\n",
       "      <td>Nothing is inconceivable</td>\n",
       "      <td>Junior</td>\n",
       "      <td>[{'id': 1009, 'name': 'baby'}, {'id': 1279, 'n...</td>\n",
       "      <td>[{'id': 1100, 'name': 'Arnold Schwarzenegger',...</td>\n",
       "      <td>[{'id': 8858, 'name': 'Ivan Reitman', 'departm...</td>\n",
       "      <td>1994</td>\n",
       "      <td>Tuesday</td>\n",
       "      <td>1994-11-22</td>\n",
       "      <td>146908995</td>\n",
       "    </tr>\n",
       "    <tr>\n",
       "      <th>2</th>\n",
       "      <td>2402</td>\n",
       "      <td>2403</td>\n",
       "      <td>NaN</td>\n",
       "      <td>60000000.00</td>\n",
       "      <td>[{'id': 35, 'name': 'Comedy'}, {'id': 80, 'nam...</td>\n",
       "      <td>en</td>\n",
       "      <td>Join uptight David Starsky and laid-back Ken \"...</td>\n",
       "      <td>3.661156</td>\n",
       "      <td>[{'name': 'Weed Road Pictures', 'id': 433}, {'...</td>\n",
       "      <td>[{'iso_3166_1': 'US', 'name': 'United States o...</td>\n",
       "      <td>...</td>\n",
       "      <td>Released</td>\n",
       "      <td>They're the man.</td>\n",
       "      <td>Starsky &amp; Hutch</td>\n",
       "      <td>[{'id': 167715, 'name': 'informant'}, {'id': 1...</td>\n",
       "      <td>[{'id': 7399, 'name': 'Ben Stiller', 'charater...</td>\n",
       "      <td>[{'id': 546, 'name': 'Jeanne McCarthy', 'depar...</td>\n",
       "      <td>2004</td>\n",
       "      <td>Friday</td>\n",
       "      <td>2004-03-05</td>\n",
       "      <td>170808806</td>\n",
       "    </tr>\n",
       "    <tr>\n",
       "      <th>3</th>\n",
       "      <td>2403</td>\n",
       "      <td>2404</td>\n",
       "      <td>NaN</td>\n",
       "      <td>47000000.00</td>\n",
       "      <td>[{'id': 35, 'name': 'Comedy'}, {'id': 18, 'nam...</td>\n",
       "      <td>en</td>\n",
       "      <td>After his mistress runs over a young teen, a W...</td>\n",
       "      <td>1.871012</td>\n",
       "      <td>[{'name': 'Warner Bros.', 'id': 6194}]</td>\n",
       "      <td>[{'iso_3166_1': 'US', 'name': 'United States o...</td>\n",
       "      <td>...</td>\n",
       "      <td>Released</td>\n",
       "      <td>Take one Wall Street tycoon, his Fifth Avenue ...</td>\n",
       "      <td>The Bonfire of the Vanities</td>\n",
       "      <td>[{'id': 577, 'name': 'black people'}, {'id': 7...</td>\n",
       "      <td>[{'id': 31, 'name': 'Tom Hanks', 'charater': '...</td>\n",
       "      <td>[{'id': 1150, 'name': 'Brian De Palma', 'depar...</td>\n",
       "      <td>1990</td>\n",
       "      <td>Friday</td>\n",
       "      <td>1990-12-21</td>\n",
       "      <td>311540765</td>\n",
       "    </tr>\n",
       "    <tr>\n",
       "      <th>4</th>\n",
       "      <td>2404</td>\n",
       "      <td>2405</td>\n",
       "      <td>NaN</td>\n",
       "      <td>37000000.00</td>\n",
       "      <td>[{'id': 80, 'name': 'Crime'}, {'id': 18, 'name...</td>\n",
       "      <td>en</td>\n",
       "      <td>Doug MacRay is a longtime thief, who, smarter ...</td>\n",
       "      <td>4.444294</td>\n",
       "      <td>[{'name': 'Legendary Pictures', 'id': 923}, {'...</td>\n",
       "      <td>[{'iso_3166_1': 'US', 'name': 'United States o...</td>\n",
       "      <td>...</td>\n",
       "      <td>Released</td>\n",
       "      <td>Welcome to the bank robbery capital of America.</td>\n",
       "      <td>The Town</td>\n",
       "      <td>[{'id': 818, 'name': 'based on novel'}, {'id':...</td>\n",
       "      <td>[{'id': 880, 'name': 'Ben Affleck', 'charater'...</td>\n",
       "      <td>[{'id': 880, 'name': 'Ben Affleck', 'departmen...</td>\n",
       "      <td>2010</td>\n",
       "      <td>Wednesday</td>\n",
       "      <td>2010-09-15</td>\n",
       "      <td>132508346</td>\n",
       "    </tr>\n",
       "    <tr>\n",
       "      <th>...</th>\n",
       "      <td>...</td>\n",
       "      <td>...</td>\n",
       "      <td>...</td>\n",
       "      <td>...</td>\n",
       "      <td>...</td>\n",
       "      <td>...</td>\n",
       "      <td>...</td>\n",
       "      <td>...</td>\n",
       "      <td>...</td>\n",
       "      <td>...</td>\n",
       "      <td>...</td>\n",
       "      <td>...</td>\n",
       "      <td>...</td>\n",
       "      <td>...</td>\n",
       "      <td>...</td>\n",
       "      <td>...</td>\n",
       "      <td>...</td>\n",
       "      <td>...</td>\n",
       "      <td>...</td>\n",
       "      <td>...</td>\n",
       "      <td>...</td>\n",
       "    </tr>\n",
       "    <tr>\n",
       "      <th>595</th>\n",
       "      <td>2995</td>\n",
       "      <td>2996</td>\n",
       "      <td>NaN</td>\n",
       "      <td>22531334.11</td>\n",
       "      <td>[{'id': 35, 'name': 'Comedy'}, {'id': 10749, '...</td>\n",
       "      <td>en</td>\n",
       "      <td>Military men Rock Reilly and Eddie Devane are ...</td>\n",
       "      <td>3.347614</td>\n",
       "      <td>[{'name': 'Warner Bros.', 'id': 6194}, {'name'...</td>\n",
       "      <td>[{'iso_3166_1': 'US', 'name': 'United States o...</td>\n",
       "      <td>...</td>\n",
       "      <td>Released</td>\n",
       "      <td>It was supposed to be a routine prisoner trans...</td>\n",
       "      <td>Chasers</td>\n",
       "      <td>[{'id': 378, 'name': 'prison'}, {'id': 572, 'n...</td>\n",
       "      <td>[{'id': 13022, 'name': 'Tom Berenger', 'charat...</td>\n",
       "      <td>[{'id': 2778, 'name': 'Dennis Hopper', 'depart...</td>\n",
       "      <td>1994</td>\n",
       "      <td>Friday</td>\n",
       "      <td>1994-04-22</td>\n",
       "      <td>73647962</td>\n",
       "    </tr>\n",
       "    <tr>\n",
       "      <th>596</th>\n",
       "      <td>2996</td>\n",
       "      <td>2997</td>\n",
       "      <td>NaN</td>\n",
       "      <td>22531334.11</td>\n",
       "      <td>[{'id': 18, 'name': 'Drama'}, {'id': 10402, 'n...</td>\n",
       "      <td>sv</td>\n",
       "      <td>Three girls in 1980s Stockholm decide to form ...</td>\n",
       "      <td>1.266574</td>\n",
       "      <td>[{'name': 'Memfis Film', 'id': 321}, {'name': ...</td>\n",
       "      <td>[{'iso_3166_1': 'DK', 'name': 'Denmark'}, {'is...</td>\n",
       "      <td>...</td>\n",
       "      <td>Released</td>\n",
       "      <td>NaN</td>\n",
       "      <td>We Are the Best!</td>\n",
       "      <td>[{'id': 1192, 'name': 'sweden'}, {'id': 4470, ...</td>\n",
       "      <td>[{'id': 1171819, 'name': 'Mira Barkhammar', 'c...</td>\n",
       "      <td>[{'id': 6338, 'name': 'Imor Hermann', 'departm...</td>\n",
       "      <td>2013</td>\n",
       "      <td>Thursday</td>\n",
       "      <td>2013-03-28</td>\n",
       "      <td>129412671</td>\n",
       "    </tr>\n",
       "    <tr>\n",
       "      <th>597</th>\n",
       "      <td>2997</td>\n",
       "      <td>2998</td>\n",
       "      <td>NaN</td>\n",
       "      <td>65000000.00</td>\n",
       "      <td>[{'id': 80, 'name': 'Crime'}, {'id': 28, 'name...</td>\n",
       "      <td>en</td>\n",
       "      <td>Samantha Caine, suburban homemaker, is the ide...</td>\n",
       "      <td>4.920327</td>\n",
       "      <td>[{'name': 'New Line Cinema', 'id': 12}, {'name...</td>\n",
       "      <td>[{'iso_3166_1': 'US', 'name': 'United States o...</td>\n",
       "      <td>...</td>\n",
       "      <td>Released</td>\n",
       "      <td>What's forgotten is not always gone.</td>\n",
       "      <td>The Long Kiss Goodnight</td>\n",
       "      <td>[{'id': 441, 'name': 'assassination'}, {'id': ...</td>\n",
       "      <td>[{'id': 16935, 'name': 'Geena Davis', 'charate...</td>\n",
       "      <td>[{'id': 16938, 'name': 'Renny Harlin', 'depart...</td>\n",
       "      <td>1996</td>\n",
       "      <td>Friday</td>\n",
       "      <td>1996-10-11</td>\n",
       "      <td>247496846</td>\n",
       "    </tr>\n",
       "    <tr>\n",
       "      <th>598</th>\n",
       "      <td>2998</td>\n",
       "      <td>2999</td>\n",
       "      <td>NaN</td>\n",
       "      <td>42000000.00</td>\n",
       "      <td>[{'id': 35, 'name': 'Comedy'}, {'id': 10749, '...</td>\n",
       "      <td>en</td>\n",
       "      <td>Reuben Feffer is a guy who's spent his entire ...</td>\n",
       "      <td>5.342699</td>\n",
       "      <td>[{'name': 'Jersey Films', 'id': 216}, {'name':...</td>\n",
       "      <td>[{'iso_3166_1': 'US', 'name': 'United States o...</td>\n",
       "      <td>...</td>\n",
       "      <td>Released</td>\n",
       "      <td>For the most cautious man on Earth, life is ab...</td>\n",
       "      <td>Along Came Polly</td>\n",
       "      <td>[{'id': 966, 'name': 'beach'}, {'id': 2676, 'n...</td>\n",
       "      <td>[{'id': 7399, 'name': 'Ben Stiller', 'charater...</td>\n",
       "      <td>[{'id': 518, 'name': 'Danny DeVito', 'departme...</td>\n",
       "      <td>2004</td>\n",
       "      <td>Friday</td>\n",
       "      <td>2004-01-16</td>\n",
       "      <td>231539152</td>\n",
       "    </tr>\n",
       "    <tr>\n",
       "      <th>599</th>\n",
       "      <td>2999</td>\n",
       "      <td>3000</td>\n",
       "      <td>NaN</td>\n",
       "      <td>35000000.00</td>\n",
       "      <td>[{'id': 53, 'name': 'Thriller'}, {'id': 28, 'n...</td>\n",
       "      <td>en</td>\n",
       "      <td>A young man sets out to uncover the truth abou...</td>\n",
       "      <td>3.571453</td>\n",
       "      <td>[{'name': 'Lions Gate Films', 'id': 35}, {'nam...</td>\n",
       "      <td>[{'iso_3166_1': 'US', 'name': 'United States o...</td>\n",
       "      <td>...</td>\n",
       "      <td>Released</td>\n",
       "      <td>They stole his life. He's taking it back.</td>\n",
       "      <td>Abduction</td>\n",
       "      <td>[{'id': 591, 'name': 'cia'}, {'id': 822, 'name...</td>\n",
       "      <td>[{'id': 84214, 'name': 'Taylor Lautner', 'char...</td>\n",
       "      <td>[{'id': 1593, 'name': 'Joseph Middleton', 'dep...</td>\n",
       "      <td>2011</td>\n",
       "      <td>Thursday</td>\n",
       "      <td>2011-09-22</td>\n",
       "      <td>97374652</td>\n",
       "    </tr>\n",
       "  </tbody>\n",
       "</table>\n",
       "<p>600 rows × 22 columns</p>\n",
       "</div>"
      ],
      "text/plain": [
       "     Unnamed: 0    id belongs_to_collection       budget  \\\n",
       "0          2400  2401                   NaN  22531334.11   \n",
       "1          2401  2402                   NaN  60000000.00   \n",
       "2          2402  2403                   NaN  60000000.00   \n",
       "3          2403  2404                   NaN  47000000.00   \n",
       "4          2404  2405                   NaN  37000000.00   \n",
       "..          ...   ...                   ...          ...   \n",
       "595        2995  2996                   NaN  22531334.11   \n",
       "596        2996  2997                   NaN  22531334.11   \n",
       "597        2997  2998                   NaN  65000000.00   \n",
       "598        2998  2999                   NaN  42000000.00   \n",
       "599        2999  3000                   NaN  35000000.00   \n",
       "\n",
       "                                                genres language  \\\n",
       "0    [{'id': 35, 'name': 'Comedy'}, {'id': 10749, '...       en   \n",
       "1    [{'id': 35, 'name': 'Comedy'}, {'id': 10751, '...       en   \n",
       "2    [{'id': 35, 'name': 'Comedy'}, {'id': 80, 'nam...       en   \n",
       "3    [{'id': 35, 'name': 'Comedy'}, {'id': 18, 'nam...       en   \n",
       "4    [{'id': 80, 'name': 'Crime'}, {'id': 18, 'name...       en   \n",
       "..                                                 ...      ...   \n",
       "595  [{'id': 35, 'name': 'Comedy'}, {'id': 10749, '...       en   \n",
       "596  [{'id': 18, 'name': 'Drama'}, {'id': 10402, 'n...       sv   \n",
       "597  [{'id': 80, 'name': 'Crime'}, {'id': 28, 'name...       en   \n",
       "598  [{'id': 35, 'name': 'Comedy'}, {'id': 10749, '...       en   \n",
       "599  [{'id': 53, 'name': 'Thriller'}, {'id': 28, 'n...       en   \n",
       "\n",
       "                                              overview  popularity  \\\n",
       "0    A comedy that pays tribute to the science fict...    3.368959   \n",
       "1    As part of a fertility research project, a mal...    2.279772   \n",
       "2    Join uptight David Starsky and laid-back Ken \"...    3.661156   \n",
       "3    After his mistress runs over a young teen, a W...    1.871012   \n",
       "4    Doug MacRay is a longtime thief, who, smarter ...    4.444294   \n",
       "..                                                 ...         ...   \n",
       "595  Military men Rock Reilly and Eddie Devane are ...    3.347614   \n",
       "596  Three girls in 1980s Stockholm decide to form ...    1.266574   \n",
       "597  Samantha Caine, suburban homemaker, is the ide...    4.920327   \n",
       "598  Reuben Feffer is a guy who's spent his entire ...    5.342699   \n",
       "599  A young man sets out to uncover the truth abou...    3.571453   \n",
       "\n",
       "                                  production_companies  \\\n",
       "0    [{'name': 'Independent Film Channel', 'id': 40...   \n",
       "1    [{'name': 'Universal Pictures', 'id': 33}, {'n...   \n",
       "2    [{'name': 'Weed Road Pictures', 'id': 433}, {'...   \n",
       "3               [{'name': 'Warner Bros.', 'id': 6194}]   \n",
       "4    [{'name': 'Legendary Pictures', 'id': 923}, {'...   \n",
       "..                                                 ...   \n",
       "595  [{'name': 'Warner Bros.', 'id': 6194}, {'name'...   \n",
       "596  [{'name': 'Memfis Film', 'id': 321}, {'name': ...   \n",
       "597  [{'name': 'New Line Cinema', 'id': 12}, {'name...   \n",
       "598  [{'name': 'Jersey Films', 'id': 216}, {'name':...   \n",
       "599  [{'name': 'Lions Gate Films', 'id': 35}, {'nam...   \n",
       "\n",
       "                                  production_countries  ...    status  \\\n",
       "0    [{'iso_3166_1': 'US', 'name': 'United States o...  ...  Released   \n",
       "1    [{'iso_3166_1': 'US', 'name': 'United States o...  ...  Released   \n",
       "2    [{'iso_3166_1': 'US', 'name': 'United States o...  ...  Released   \n",
       "3    [{'iso_3166_1': 'US', 'name': 'United States o...  ...  Released   \n",
       "4    [{'iso_3166_1': 'US', 'name': 'United States o...  ...  Released   \n",
       "..                                                 ...  ...       ...   \n",
       "595  [{'iso_3166_1': 'US', 'name': 'United States o...  ...  Released   \n",
       "596  [{'iso_3166_1': 'DK', 'name': 'Denmark'}, {'is...  ...  Released   \n",
       "597  [{'iso_3166_1': 'US', 'name': 'United States o...  ...  Released   \n",
       "598  [{'iso_3166_1': 'US', 'name': 'United States o...  ...  Released   \n",
       "599  [{'iso_3166_1': 'US', 'name': 'United States o...  ...  Released   \n",
       "\n",
       "                                               tagline  \\\n",
       "0    Sometimes the future is better than it used to...   \n",
       "1                             Nothing is inconceivable   \n",
       "2                                     They're the man.   \n",
       "3    Take one Wall Street tycoon, his Fifth Avenue ...   \n",
       "4      Welcome to the bank robbery capital of America.   \n",
       "..                                                 ...   \n",
       "595  It was supposed to be a routine prisoner trans...   \n",
       "596                                                NaN   \n",
       "597               What's forgotten is not always gone.   \n",
       "598  For the most cautious man on Earth, life is ab...   \n",
       "599          They stole his life. He's taking it back.   \n",
       "\n",
       "                           title  \\\n",
       "0                Happy Accidents   \n",
       "1                         Junior   \n",
       "2                Starsky & Hutch   \n",
       "3    The Bonfire of the Vanities   \n",
       "4                       The Town   \n",
       "..                           ...   \n",
       "595                      Chasers   \n",
       "596             We Are the Best!   \n",
       "597      The Long Kiss Goodnight   \n",
       "598             Along Came Polly   \n",
       "599                    Abduction   \n",
       "\n",
       "                                              Keywords  \\\n",
       "0          [{'id': 10183, 'name': 'independent film'}]   \n",
       "1    [{'id': 1009, 'name': 'baby'}, {'id': 1279, 'n...   \n",
       "2    [{'id': 167715, 'name': 'informant'}, {'id': 1...   \n",
       "3    [{'id': 577, 'name': 'black people'}, {'id': 7...   \n",
       "4    [{'id': 818, 'name': 'based on novel'}, {'id':...   \n",
       "..                                                 ...   \n",
       "595  [{'id': 378, 'name': 'prison'}, {'id': 572, 'n...   \n",
       "596  [{'id': 1192, 'name': 'sweden'}, {'id': 4470, ...   \n",
       "597  [{'id': 441, 'name': 'assassination'}, {'id': ...   \n",
       "598  [{'id': 966, 'name': 'beach'}, {'id': 2676, 'n...   \n",
       "599  [{'id': 591, 'name': 'cia'}, {'id': 822, 'name...   \n",
       "\n",
       "                                                  cast  \\\n",
       "0    [{'id': 7132, 'name': \"Vincent D'Onofrio\", 'ch...   \n",
       "1    [{'id': 1100, 'name': 'Arnold Schwarzenegger',...   \n",
       "2    [{'id': 7399, 'name': 'Ben Stiller', 'charater...   \n",
       "3    [{'id': 31, 'name': 'Tom Hanks', 'charater': '...   \n",
       "4    [{'id': 880, 'name': 'Ben Affleck', 'charater'...   \n",
       "..                                                 ...   \n",
       "595  [{'id': 13022, 'name': 'Tom Berenger', 'charat...   \n",
       "596  [{'id': 1171819, 'name': 'Mira Barkhammar', 'c...   \n",
       "597  [{'id': 16935, 'name': 'Geena Davis', 'charate...   \n",
       "598  [{'id': 7399, 'name': 'Ben Stiller', 'charater...   \n",
       "599  [{'id': 84214, 'name': 'Taylor Lautner', 'char...   \n",
       "\n",
       "                                                  crew release_year  \\\n",
       "0    [{'id': 37948, 'name': 'Brad Anderson', 'depar...         2000   \n",
       "1    [{'id': 8858, 'name': 'Ivan Reitman', 'departm...         1994   \n",
       "2    [{'id': 546, 'name': 'Jeanne McCarthy', 'depar...         2004   \n",
       "3    [{'id': 1150, 'name': 'Brian De Palma', 'depar...         1990   \n",
       "4    [{'id': 880, 'name': 'Ben Affleck', 'departmen...         2010   \n",
       "..                                                 ...          ...   \n",
       "595  [{'id': 2778, 'name': 'Dennis Hopper', 'depart...         1994   \n",
       "596  [{'id': 6338, 'name': 'Imor Hermann', 'departm...         2013   \n",
       "597  [{'id': 16938, 'name': 'Renny Harlin', 'depart...         1996   \n",
       "598  [{'id': 518, 'name': 'Danny DeVito', 'departme...         2004   \n",
       "599  [{'id': 1593, 'name': 'Joseph Middleton', 'dep...         2011   \n",
       "\n",
       "    release_day_of_the_week  release_date predicted_revenue  \n",
       "0                   Tuesday    2000-01-25         122463854  \n",
       "1                   Tuesday    1994-11-22         146908995  \n",
       "2                    Friday    2004-03-05         170808806  \n",
       "3                    Friday    1990-12-21         311540765  \n",
       "4                 Wednesday    2010-09-15         132508346  \n",
       "..                      ...           ...               ...  \n",
       "595                  Friday    1994-04-22          73647962  \n",
       "596                Thursday    2013-03-28         129412671  \n",
       "597                  Friday    1996-10-11         247496846  \n",
       "598                  Friday    2004-01-16         231539152  \n",
       "599                Thursday    2011-09-22          97374652  \n",
       "\n",
       "[600 rows x 22 columns]"
      ]
     },
     "execution_count": 429,
     "metadata": {},
     "output_type": "execute_result"
    }
   ],
   "source": [
    "submission"
   ]
  },
  {
   "cell_type": "code",
   "execution_count": null,
   "id": "85029c3f",
   "metadata": {},
   "outputs": [],
   "source": []
  }
 ],
 "metadata": {
  "kernelspec": {
   "display_name": "Python 3 (ipykernel)",
   "language": "python",
   "name": "python3"
  },
  "language_info": {
   "codemirror_mode": {
    "name": "ipython",
    "version": 3
   },
   "file_extension": ".py",
   "mimetype": "text/x-python",
   "name": "python",
   "nbconvert_exporter": "python",
   "pygments_lexer": "ipython3",
   "version": "3.7.9"
  }
 },
 "nbformat": 4,
 "nbformat_minor": 5
}
